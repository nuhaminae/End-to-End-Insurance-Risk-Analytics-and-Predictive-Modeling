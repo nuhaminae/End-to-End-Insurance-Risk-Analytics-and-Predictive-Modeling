{
 "cells": [
  {
   "cell_type": "code",
   "execution_count": 1,
   "id": "c43fd6f4",
   "metadata": {},
   "outputs": [
    {
     "name": "stderr",
     "output_type": "stream",
     "text": [
      "test_load_df_capitalizes_columns (__main__.TestDataLoading.test_load_df_capitalizes_columns) ... "
     ]
    },
    {
     "name": "stdout",
     "output_type": "stream",
     "text": [
      "File read successfully!\n",
      "\n",
      "Coloumns are capitalised.\n",
      "\n",
      "Empty indexes are filled with \"NAN\" values.\n",
      "\n",
      "Coloumns ['EmptyCol'] are dropped.\n",
      "\n",
      "Indexes with empty values are dropped.\n",
      "\n",
      "DataFrame is sorted by TransactionMonth column.\n",
      "\n",
      "DataFrame is preprocessed.\n",
      "\n",
      "Prrocessed DataFrame Saved to: test_output\\processed_insurance_data.csv\n",
      "\n",
      "DataFrame Head:\n"
     ]
    },
    {
     "data": {
      "application/vnd.microsoft.datawrangler.viewer.v0+json": {
       "columns": [
        {
         "name": "index",
         "rawType": "int64",
         "type": "integer"
        },
        {
         "name": "Col1",
         "rawType": "int64",
         "type": "integer"
        },
        {
         "name": "Col2",
         "rawType": "object",
         "type": "string"
        },
        {
         "name": "TransactionMonth",
         "rawType": "datetime64[ns]",
         "type": "datetime"
        },
        {
         "name": "RegistrationYear",
         "rawType": "datetime64[ns]",
         "type": "datetime"
        },
        {
         "name": "VehicleIntroDate",
         "rawType": "datetime64[ns]",
         "type": "datetime"
        },
        {
         "name": "Partialemptycol",
         "rawType": "float64",
         "type": "float"
        },
        {
         "name": "Stringcol",
         "rawType": "object",
         "type": "string"
        },
        {
         "name": "CapitalOutstanding",
         "rawType": "float64",
         "type": "float"
        },
        {
         "name": "Mmcode",
         "rawType": "int64",
         "type": "integer"
        },
        {
         "name": "Cubiccapacity",
         "rawType": "int64",
         "type": "integer"
        },
        {
         "name": "Kilowatts",
         "rawType": "int64",
         "type": "integer"
        },
        {
         "name": "NumberOfDoors",
         "rawType": "int64",
         "type": "integer"
        },
        {
         "name": "Cylinders",
         "rawType": "int64",
         "type": "integer"
        },
        {
         "name": "SumInsured",
         "rawType": "int64",
         "type": "integer"
        },
        {
         "name": "CalculatedPremiumPerTerm",
         "rawType": "int64",
         "type": "integer"
        },
        {
         "name": "TotalPremium",
         "rawType": "int64",
         "type": "integer"
        },
        {
         "name": "TotalClaims",
         "rawType": "int64",
         "type": "integer"
        }
       ],
       "ref": "60e80bbc-5a30-4226-97ca-1ed4422c5d07",
       "rows": [
        [
         "0",
         "1",
         "A",
         "2023-01-01 00:00:00",
         "2020-01-01 00:00:00",
         "2019-01-01 00:00:00",
         "1.0",
         "cat",
         "1.2",
         "101",
         "1000",
         "50",
         "2",
         "4",
         "10000",
         "100",
         "500",
         "10"
        ],
        [
         "1",
         "2",
         "B",
         "2023-03-01 00:00:00",
         "2021-01-01 00:00:00",
         "2020-01-01 00:00:00",
         "2.0",
         "dog",
         "3.4",
         "102",
         "1500",
         "75",
         "4",
         "4",
         "20000",
         "200",
         "1000",
         "20"
        ],
        [
         "2",
         "4",
         "D",
         "2023-04-01 00:00:00",
         "2023-01-01 00:00:00",
         "2022-01-01 00:00:00",
         "4.0",
         "dog",
         "7.8",
         "104",
         "2500",
         "125",
         "2",
         "4",
         "40000",
         "400",
         "2000",
         "40"
        ]
       ],
       "shape": {
        "columns": 17,
        "rows": 3
       }
      },
      "text/html": [
       "<div>\n",
       "<style scoped>\n",
       "    .dataframe tbody tr th:only-of-type {\n",
       "        vertical-align: middle;\n",
       "    }\n",
       "\n",
       "    .dataframe tbody tr th {\n",
       "        vertical-align: top;\n",
       "    }\n",
       "\n",
       "    .dataframe thead th {\n",
       "        text-align: right;\n",
       "    }\n",
       "</style>\n",
       "<table border=\"1\" class=\"dataframe\">\n",
       "  <thead>\n",
       "    <tr style=\"text-align: right;\">\n",
       "      <th></th>\n",
       "      <th>Col1</th>\n",
       "      <th>Col2</th>\n",
       "      <th>TransactionMonth</th>\n",
       "      <th>RegistrationYear</th>\n",
       "      <th>VehicleIntroDate</th>\n",
       "      <th>Partialemptycol</th>\n",
       "      <th>Stringcol</th>\n",
       "      <th>CapitalOutstanding</th>\n",
       "      <th>Mmcode</th>\n",
       "      <th>Cubiccapacity</th>\n",
       "      <th>Kilowatts</th>\n",
       "      <th>NumberOfDoors</th>\n",
       "      <th>Cylinders</th>\n",
       "      <th>SumInsured</th>\n",
       "      <th>CalculatedPremiumPerTerm</th>\n",
       "      <th>TotalPremium</th>\n",
       "      <th>TotalClaims</th>\n",
       "    </tr>\n",
       "  </thead>\n",
       "  <tbody>\n",
       "    <tr>\n",
       "      <th>0</th>\n",
       "      <td>1</td>\n",
       "      <td>A</td>\n",
       "      <td>2023-01-01</td>\n",
       "      <td>2020-01-01</td>\n",
       "      <td>2019-01-01</td>\n",
       "      <td>1.0</td>\n",
       "      <td>cat</td>\n",
       "      <td>1.2</td>\n",
       "      <td>101</td>\n",
       "      <td>1000</td>\n",
       "      <td>50</td>\n",
       "      <td>2</td>\n",
       "      <td>4</td>\n",
       "      <td>10000</td>\n",
       "      <td>100</td>\n",
       "      <td>500</td>\n",
       "      <td>10</td>\n",
       "    </tr>\n",
       "    <tr>\n",
       "      <th>1</th>\n",
       "      <td>2</td>\n",
       "      <td>B</td>\n",
       "      <td>2023-03-01</td>\n",
       "      <td>2021-01-01</td>\n",
       "      <td>2020-01-01</td>\n",
       "      <td>2.0</td>\n",
       "      <td>dog</td>\n",
       "      <td>3.4</td>\n",
       "      <td>102</td>\n",
       "      <td>1500</td>\n",
       "      <td>75</td>\n",
       "      <td>4</td>\n",
       "      <td>4</td>\n",
       "      <td>20000</td>\n",
       "      <td>200</td>\n",
       "      <td>1000</td>\n",
       "      <td>20</td>\n",
       "    </tr>\n",
       "    <tr>\n",
       "      <th>2</th>\n",
       "      <td>4</td>\n",
       "      <td>D</td>\n",
       "      <td>2023-04-01</td>\n",
       "      <td>2023-01-01</td>\n",
       "      <td>2022-01-01</td>\n",
       "      <td>4.0</td>\n",
       "      <td>dog</td>\n",
       "      <td>7.8</td>\n",
       "      <td>104</td>\n",
       "      <td>2500</td>\n",
       "      <td>125</td>\n",
       "      <td>2</td>\n",
       "      <td>4</td>\n",
       "      <td>40000</td>\n",
       "      <td>400</td>\n",
       "      <td>2000</td>\n",
       "      <td>40</td>\n",
       "    </tr>\n",
       "  </tbody>\n",
       "</table>\n",
       "</div>"
      ],
      "text/plain": [
       "   Col1 Col2 TransactionMonth RegistrationYear VehicleIntroDate  \\\n",
       "0     1    A       2023-01-01       2020-01-01       2019-01-01   \n",
       "1     2    B       2023-03-01       2021-01-01       2020-01-01   \n",
       "2     4    D       2023-04-01       2023-01-01       2022-01-01   \n",
       "\n",
       "   Partialemptycol Stringcol  CapitalOutstanding  Mmcode  Cubiccapacity  \\\n",
       "0              1.0       cat                 1.2     101           1000   \n",
       "1              2.0       dog                 3.4     102           1500   \n",
       "2              4.0       dog                 7.8     104           2500   \n",
       "\n",
       "   Kilowatts  NumberOfDoors  Cylinders  SumInsured  CalculatedPremiumPerTerm  \\\n",
       "0         50              2          4       10000                       100   \n",
       "1         75              4          4       20000                       200   \n",
       "2        125              2          4       40000                       400   \n",
       "\n",
       "   TotalPremium  TotalClaims  \n",
       "0           500           10  \n",
       "1          1000           20  \n",
       "2          2000           40  "
      ]
     },
     "metadata": {},
     "output_type": "display_data"
    },
    {
     "name": "stdout",
     "output_type": "stream",
     "text": [
      "\n",
      "DataFrame Info:\n",
      "<class 'pandas.core.frame.DataFrame'>\n",
      "RangeIndex: 3 entries, 0 to 2\n",
      "Data columns (total 17 columns):\n",
      " #   Column                    Non-Null Count  Dtype         \n",
      "---  ------                    --------------  -----         \n",
      " 0   Col1                      3 non-null      int64         \n",
      " 1   Col2                      3 non-null      object        \n",
      " 2   TransactionMonth          3 non-null      datetime64[ns]\n",
      " 3   RegistrationYear          3 non-null      datetime64[ns]\n",
      " 4   VehicleIntroDate          3 non-null      datetime64[ns]\n",
      " 5   Partialemptycol           3 non-null      float64       \n",
      " 6   Stringcol                 3 non-null      object        \n",
      " 7   CapitalOutstanding        3 non-null      float64       \n",
      " 8   Mmcode                    3 non-null      int64         \n",
      " 9   Cubiccapacity             3 non-null      int64         \n",
      " 10  Kilowatts                 3 non-null      int64         \n",
      " 11  NumberOfDoors             3 non-null      int64         \n",
      " 12  Cylinders                 3 non-null      int64         \n",
      " 13  SumInsured                3 non-null      int64         \n",
      " 14  CalculatedPremiumPerTerm  3 non-null      int64         \n",
      " 15  TotalPremium              3 non-null      int64         \n",
      " 16  TotalClaims               3 non-null      int64         \n",
      "dtypes: datetime64[ns](3), float64(2), int64(10), object(2)\n",
      "memory usage: 540.0+ bytes\n",
      "\n",
      "DataFrame Shape:\n"
     ]
    },
    {
     "data": {
      "text/plain": [
       "(3, 17)"
      ]
     },
     "metadata": {},
     "output_type": "display_data"
    },
    {
     "name": "stdout",
     "output_type": "stream",
     "text": [
      "\n",
      "DataFrame Description:\n"
     ]
    },
    {
     "data": {
      "application/vnd.microsoft.datawrangler.viewer.v0+json": {
       "columns": [
        {
         "name": "index",
         "rawType": "object",
         "type": "string"
        },
        {
         "name": "SumInsured",
         "rawType": "float64",
         "type": "float"
        },
        {
         "name": "CalculatedPremiumPerTerm",
         "rawType": "float64",
         "type": "float"
        },
        {
         "name": "TotalPremium",
         "rawType": "float64",
         "type": "float"
        },
        {
         "name": "TotalClaims",
         "rawType": "float64",
         "type": "float"
        }
       ],
       "ref": "2f468f50-eb16-4419-a2dc-9713cdbf4fc3",
       "rows": [
        [
         "count",
         "3.0",
         "3.0",
         "3.0",
         "3.0"
        ],
        [
         "mean",
         "23333.333333333332",
         "233.33333333333334",
         "1166.6666666666667",
         "23.333333333333332"
        ],
        [
         "std",
         "15275.252316519465",
         "152.75252316519467",
         "763.7626158259733",
         "15.275252316519467"
        ],
        [
         "min",
         "10000.0",
         "100.0",
         "500.0",
         "10.0"
        ],
        [
         "25%",
         "15000.0",
         "150.0",
         "750.0",
         "15.0"
        ],
        [
         "50%",
         "20000.0",
         "200.0",
         "1000.0",
         "20.0"
        ],
        [
         "75%",
         "30000.0",
         "300.0",
         "1500.0",
         "30.0"
        ],
        [
         "max",
         "40000.0",
         "400.0",
         "2000.0",
         "40.0"
        ]
       ],
       "shape": {
        "columns": 4,
        "rows": 8
       }
      },
      "text/html": [
       "<div>\n",
       "<style scoped>\n",
       "    .dataframe tbody tr th:only-of-type {\n",
       "        vertical-align: middle;\n",
       "    }\n",
       "\n",
       "    .dataframe tbody tr th {\n",
       "        vertical-align: top;\n",
       "    }\n",
       "\n",
       "    .dataframe thead th {\n",
       "        text-align: right;\n",
       "    }\n",
       "</style>\n",
       "<table border=\"1\" class=\"dataframe\">\n",
       "  <thead>\n",
       "    <tr style=\"text-align: right;\">\n",
       "      <th></th>\n",
       "      <th>SumInsured</th>\n",
       "      <th>CalculatedPremiumPerTerm</th>\n",
       "      <th>TotalPremium</th>\n",
       "      <th>TotalClaims</th>\n",
       "    </tr>\n",
       "  </thead>\n",
       "  <tbody>\n",
       "    <tr>\n",
       "      <th>count</th>\n",
       "      <td>3.000000</td>\n",
       "      <td>3.000000</td>\n",
       "      <td>3.000000</td>\n",
       "      <td>3.000000</td>\n",
       "    </tr>\n",
       "    <tr>\n",
       "      <th>mean</th>\n",
       "      <td>23333.333333</td>\n",
       "      <td>233.333333</td>\n",
       "      <td>1166.666667</td>\n",
       "      <td>23.333333</td>\n",
       "    </tr>\n",
       "    <tr>\n",
       "      <th>std</th>\n",
       "      <td>15275.252317</td>\n",
       "      <td>152.752523</td>\n",
       "      <td>763.762616</td>\n",
       "      <td>15.275252</td>\n",
       "    </tr>\n",
       "    <tr>\n",
       "      <th>min</th>\n",
       "      <td>10000.000000</td>\n",
       "      <td>100.000000</td>\n",
       "      <td>500.000000</td>\n",
       "      <td>10.000000</td>\n",
       "    </tr>\n",
       "    <tr>\n",
       "      <th>25%</th>\n",
       "      <td>15000.000000</td>\n",
       "      <td>150.000000</td>\n",
       "      <td>750.000000</td>\n",
       "      <td>15.000000</td>\n",
       "    </tr>\n",
       "    <tr>\n",
       "      <th>50%</th>\n",
       "      <td>20000.000000</td>\n",
       "      <td>200.000000</td>\n",
       "      <td>1000.000000</td>\n",
       "      <td>20.000000</td>\n",
       "    </tr>\n",
       "    <tr>\n",
       "      <th>75%</th>\n",
       "      <td>30000.000000</td>\n",
       "      <td>300.000000</td>\n",
       "      <td>1500.000000</td>\n",
       "      <td>30.000000</td>\n",
       "    </tr>\n",
       "    <tr>\n",
       "      <th>max</th>\n",
       "      <td>40000.000000</td>\n",
       "      <td>400.000000</td>\n",
       "      <td>2000.000000</td>\n",
       "      <td>40.000000</td>\n",
       "    </tr>\n",
       "  </tbody>\n",
       "</table>\n",
       "</div>"
      ],
      "text/plain": [
       "         SumInsured  CalculatedPremiumPerTerm  TotalPremium  TotalClaims\n",
       "count      3.000000                  3.000000      3.000000     3.000000\n",
       "mean   23333.333333                233.333333   1166.666667    23.333333\n",
       "std    15275.252317                152.752523    763.762616    15.275252\n",
       "min    10000.000000                100.000000    500.000000    10.000000\n",
       "25%    15000.000000                150.000000    750.000000    15.000000\n",
       "50%    20000.000000                200.000000   1000.000000    20.000000\n",
       "75%    30000.000000                300.000000   1500.000000    30.000000\n",
       "max    40000.000000                400.000000   2000.000000    40.000000"
      ]
     },
     "metadata": {},
     "output_type": "display_data"
    },
    {
     "name": "stderr",
     "output_type": "stream",
     "text": [
      "ok\n",
      "test_load_df_datetime_conversion (__main__.TestDataLoading.test_load_df_datetime_conversion) ... "
     ]
    },
    {
     "name": "stdout",
     "output_type": "stream",
     "text": [
      "File read successfully!\n",
      "\n",
      "Coloumns are capitalised.\n",
      "\n",
      "Empty indexes are filled with \"NAN\" values.\n",
      "\n",
      "Coloumns ['EmptyCol'] are dropped.\n",
      "\n",
      "Indexes with empty values are dropped.\n",
      "\n",
      "DataFrame is sorted by TransactionMonth column.\n",
      "\n",
      "DataFrame is preprocessed.\n",
      "\n",
      "Prrocessed DataFrame Saved to: test_output\\processed_insurance_data.csv\n",
      "\n",
      "DataFrame Head:\n"
     ]
    },
    {
     "data": {
      "application/vnd.microsoft.datawrangler.viewer.v0+json": {
       "columns": [
        {
         "name": "index",
         "rawType": "int64",
         "type": "integer"
        },
        {
         "name": "Col1",
         "rawType": "int64",
         "type": "integer"
        },
        {
         "name": "Col2",
         "rawType": "object",
         "type": "string"
        },
        {
         "name": "TransactionMonth",
         "rawType": "datetime64[ns]",
         "type": "datetime"
        },
        {
         "name": "RegistrationYear",
         "rawType": "datetime64[ns]",
         "type": "datetime"
        },
        {
         "name": "VehicleIntroDate",
         "rawType": "datetime64[ns]",
         "type": "datetime"
        },
        {
         "name": "Partialemptycol",
         "rawType": "float64",
         "type": "float"
        },
        {
         "name": "Stringcol",
         "rawType": "object",
         "type": "string"
        },
        {
         "name": "CapitalOutstanding",
         "rawType": "float64",
         "type": "float"
        },
        {
         "name": "Mmcode",
         "rawType": "int64",
         "type": "integer"
        },
        {
         "name": "Cubiccapacity",
         "rawType": "int64",
         "type": "integer"
        },
        {
         "name": "Kilowatts",
         "rawType": "int64",
         "type": "integer"
        },
        {
         "name": "NumberOfDoors",
         "rawType": "int64",
         "type": "integer"
        },
        {
         "name": "Cylinders",
         "rawType": "int64",
         "type": "integer"
        },
        {
         "name": "SumInsured",
         "rawType": "int64",
         "type": "integer"
        },
        {
         "name": "CalculatedPremiumPerTerm",
         "rawType": "int64",
         "type": "integer"
        },
        {
         "name": "TotalPremium",
         "rawType": "int64",
         "type": "integer"
        },
        {
         "name": "TotalClaims",
         "rawType": "int64",
         "type": "integer"
        }
       ],
       "ref": "0a9bb1cd-025f-48c9-9b5a-3594713db1a4",
       "rows": [
        [
         "0",
         "1",
         "A",
         "2023-01-01 00:00:00",
         "2020-01-01 00:00:00",
         "2019-01-01 00:00:00",
         "1.0",
         "cat",
         "1.2",
         "101",
         "1000",
         "50",
         "2",
         "4",
         "10000",
         "100",
         "500",
         "10"
        ],
        [
         "1",
         "2",
         "B",
         "2023-03-01 00:00:00",
         "2021-01-01 00:00:00",
         "2020-01-01 00:00:00",
         "2.0",
         "dog",
         "3.4",
         "102",
         "1500",
         "75",
         "4",
         "4",
         "20000",
         "200",
         "1000",
         "20"
        ],
        [
         "2",
         "4",
         "D",
         "2023-04-01 00:00:00",
         "2023-01-01 00:00:00",
         "2022-01-01 00:00:00",
         "4.0",
         "dog",
         "7.8",
         "104",
         "2500",
         "125",
         "2",
         "4",
         "40000",
         "400",
         "2000",
         "40"
        ]
       ],
       "shape": {
        "columns": 17,
        "rows": 3
       }
      },
      "text/html": [
       "<div>\n",
       "<style scoped>\n",
       "    .dataframe tbody tr th:only-of-type {\n",
       "        vertical-align: middle;\n",
       "    }\n",
       "\n",
       "    .dataframe tbody tr th {\n",
       "        vertical-align: top;\n",
       "    }\n",
       "\n",
       "    .dataframe thead th {\n",
       "        text-align: right;\n",
       "    }\n",
       "</style>\n",
       "<table border=\"1\" class=\"dataframe\">\n",
       "  <thead>\n",
       "    <tr style=\"text-align: right;\">\n",
       "      <th></th>\n",
       "      <th>Col1</th>\n",
       "      <th>Col2</th>\n",
       "      <th>TransactionMonth</th>\n",
       "      <th>RegistrationYear</th>\n",
       "      <th>VehicleIntroDate</th>\n",
       "      <th>Partialemptycol</th>\n",
       "      <th>Stringcol</th>\n",
       "      <th>CapitalOutstanding</th>\n",
       "      <th>Mmcode</th>\n",
       "      <th>Cubiccapacity</th>\n",
       "      <th>Kilowatts</th>\n",
       "      <th>NumberOfDoors</th>\n",
       "      <th>Cylinders</th>\n",
       "      <th>SumInsured</th>\n",
       "      <th>CalculatedPremiumPerTerm</th>\n",
       "      <th>TotalPremium</th>\n",
       "      <th>TotalClaims</th>\n",
       "    </tr>\n",
       "  </thead>\n",
       "  <tbody>\n",
       "    <tr>\n",
       "      <th>0</th>\n",
       "      <td>1</td>\n",
       "      <td>A</td>\n",
       "      <td>2023-01-01</td>\n",
       "      <td>2020-01-01</td>\n",
       "      <td>2019-01-01</td>\n",
       "      <td>1.0</td>\n",
       "      <td>cat</td>\n",
       "      <td>1.2</td>\n",
       "      <td>101</td>\n",
       "      <td>1000</td>\n",
       "      <td>50</td>\n",
       "      <td>2</td>\n",
       "      <td>4</td>\n",
       "      <td>10000</td>\n",
       "      <td>100</td>\n",
       "      <td>500</td>\n",
       "      <td>10</td>\n",
       "    </tr>\n",
       "    <tr>\n",
       "      <th>1</th>\n",
       "      <td>2</td>\n",
       "      <td>B</td>\n",
       "      <td>2023-03-01</td>\n",
       "      <td>2021-01-01</td>\n",
       "      <td>2020-01-01</td>\n",
       "      <td>2.0</td>\n",
       "      <td>dog</td>\n",
       "      <td>3.4</td>\n",
       "      <td>102</td>\n",
       "      <td>1500</td>\n",
       "      <td>75</td>\n",
       "      <td>4</td>\n",
       "      <td>4</td>\n",
       "      <td>20000</td>\n",
       "      <td>200</td>\n",
       "      <td>1000</td>\n",
       "      <td>20</td>\n",
       "    </tr>\n",
       "    <tr>\n",
       "      <th>2</th>\n",
       "      <td>4</td>\n",
       "      <td>D</td>\n",
       "      <td>2023-04-01</td>\n",
       "      <td>2023-01-01</td>\n",
       "      <td>2022-01-01</td>\n",
       "      <td>4.0</td>\n",
       "      <td>dog</td>\n",
       "      <td>7.8</td>\n",
       "      <td>104</td>\n",
       "      <td>2500</td>\n",
       "      <td>125</td>\n",
       "      <td>2</td>\n",
       "      <td>4</td>\n",
       "      <td>40000</td>\n",
       "      <td>400</td>\n",
       "      <td>2000</td>\n",
       "      <td>40</td>\n",
       "    </tr>\n",
       "  </tbody>\n",
       "</table>\n",
       "</div>"
      ],
      "text/plain": [
       "   Col1 Col2 TransactionMonth RegistrationYear VehicleIntroDate  \\\n",
       "0     1    A       2023-01-01       2020-01-01       2019-01-01   \n",
       "1     2    B       2023-03-01       2021-01-01       2020-01-01   \n",
       "2     4    D       2023-04-01       2023-01-01       2022-01-01   \n",
       "\n",
       "   Partialemptycol Stringcol  CapitalOutstanding  Mmcode  Cubiccapacity  \\\n",
       "0              1.0       cat                 1.2     101           1000   \n",
       "1              2.0       dog                 3.4     102           1500   \n",
       "2              4.0       dog                 7.8     104           2500   \n",
       "\n",
       "   Kilowatts  NumberOfDoors  Cylinders  SumInsured  CalculatedPremiumPerTerm  \\\n",
       "0         50              2          4       10000                       100   \n",
       "1         75              4          4       20000                       200   \n",
       "2        125              2          4       40000                       400   \n",
       "\n",
       "   TotalPremium  TotalClaims  \n",
       "0           500           10  \n",
       "1          1000           20  \n",
       "2          2000           40  "
      ]
     },
     "metadata": {},
     "output_type": "display_data"
    },
    {
     "name": "stdout",
     "output_type": "stream",
     "text": [
      "\n",
      "DataFrame Info:\n",
      "<class 'pandas.core.frame.DataFrame'>\n",
      "RangeIndex: 3 entries, 0 to 2\n",
      "Data columns (total 17 columns):\n",
      " #   Column                    Non-Null Count  Dtype         \n",
      "---  ------                    --------------  -----         \n",
      " 0   Col1                      3 non-null      int64         \n",
      " 1   Col2                      3 non-null      object        \n",
      " 2   TransactionMonth          3 non-null      datetime64[ns]\n",
      " 3   RegistrationYear          3 non-null      datetime64[ns]\n",
      " 4   VehicleIntroDate          3 non-null      datetime64[ns]\n",
      " 5   Partialemptycol           3 non-null      float64       \n",
      " 6   Stringcol                 3 non-null      object        \n",
      " 7   CapitalOutstanding        3 non-null      float64       \n",
      " 8   Mmcode                    3 non-null      int64         \n",
      " 9   Cubiccapacity             3 non-null      int64         \n",
      " 10  Kilowatts                 3 non-null      int64         \n",
      " 11  NumberOfDoors             3 non-null      int64         \n",
      " 12  Cylinders                 3 non-null      int64         \n",
      " 13  SumInsured                3 non-null      int64         \n",
      " 14  CalculatedPremiumPerTerm  3 non-null      int64         \n",
      " 15  TotalPremium              3 non-null      int64         \n",
      " 16  TotalClaims               3 non-null      int64         \n",
      "dtypes: datetime64[ns](3), float64(2), int64(10), object(2)\n",
      "memory usage: 540.0+ bytes\n",
      "\n",
      "DataFrame Shape:\n"
     ]
    },
    {
     "data": {
      "text/plain": [
       "(3, 17)"
      ]
     },
     "metadata": {},
     "output_type": "display_data"
    },
    {
     "name": "stdout",
     "output_type": "stream",
     "text": [
      "\n",
      "DataFrame Description:\n"
     ]
    },
    {
     "data": {
      "application/vnd.microsoft.datawrangler.viewer.v0+json": {
       "columns": [
        {
         "name": "index",
         "rawType": "object",
         "type": "string"
        },
        {
         "name": "SumInsured",
         "rawType": "float64",
         "type": "float"
        },
        {
         "name": "CalculatedPremiumPerTerm",
         "rawType": "float64",
         "type": "float"
        },
        {
         "name": "TotalPremium",
         "rawType": "float64",
         "type": "float"
        },
        {
         "name": "TotalClaims",
         "rawType": "float64",
         "type": "float"
        }
       ],
       "ref": "22401524-cafa-44fb-a453-7716fa1915fb",
       "rows": [
        [
         "count",
         "3.0",
         "3.0",
         "3.0",
         "3.0"
        ],
        [
         "mean",
         "23333.333333333332",
         "233.33333333333334",
         "1166.6666666666667",
         "23.333333333333332"
        ],
        [
         "std",
         "15275.252316519465",
         "152.75252316519467",
         "763.7626158259733",
         "15.275252316519467"
        ],
        [
         "min",
         "10000.0",
         "100.0",
         "500.0",
         "10.0"
        ],
        [
         "25%",
         "15000.0",
         "150.0",
         "750.0",
         "15.0"
        ],
        [
         "50%",
         "20000.0",
         "200.0",
         "1000.0",
         "20.0"
        ],
        [
         "75%",
         "30000.0",
         "300.0",
         "1500.0",
         "30.0"
        ],
        [
         "max",
         "40000.0",
         "400.0",
         "2000.0",
         "40.0"
        ]
       ],
       "shape": {
        "columns": 4,
        "rows": 8
       }
      },
      "text/html": [
       "<div>\n",
       "<style scoped>\n",
       "    .dataframe tbody tr th:only-of-type {\n",
       "        vertical-align: middle;\n",
       "    }\n",
       "\n",
       "    .dataframe tbody tr th {\n",
       "        vertical-align: top;\n",
       "    }\n",
       "\n",
       "    .dataframe thead th {\n",
       "        text-align: right;\n",
       "    }\n",
       "</style>\n",
       "<table border=\"1\" class=\"dataframe\">\n",
       "  <thead>\n",
       "    <tr style=\"text-align: right;\">\n",
       "      <th></th>\n",
       "      <th>SumInsured</th>\n",
       "      <th>CalculatedPremiumPerTerm</th>\n",
       "      <th>TotalPremium</th>\n",
       "      <th>TotalClaims</th>\n",
       "    </tr>\n",
       "  </thead>\n",
       "  <tbody>\n",
       "    <tr>\n",
       "      <th>count</th>\n",
       "      <td>3.000000</td>\n",
       "      <td>3.000000</td>\n",
       "      <td>3.000000</td>\n",
       "      <td>3.000000</td>\n",
       "    </tr>\n",
       "    <tr>\n",
       "      <th>mean</th>\n",
       "      <td>23333.333333</td>\n",
       "      <td>233.333333</td>\n",
       "      <td>1166.666667</td>\n",
       "      <td>23.333333</td>\n",
       "    </tr>\n",
       "    <tr>\n",
       "      <th>std</th>\n",
       "      <td>15275.252317</td>\n",
       "      <td>152.752523</td>\n",
       "      <td>763.762616</td>\n",
       "      <td>15.275252</td>\n",
       "    </tr>\n",
       "    <tr>\n",
       "      <th>min</th>\n",
       "      <td>10000.000000</td>\n",
       "      <td>100.000000</td>\n",
       "      <td>500.000000</td>\n",
       "      <td>10.000000</td>\n",
       "    </tr>\n",
       "    <tr>\n",
       "      <th>25%</th>\n",
       "      <td>15000.000000</td>\n",
       "      <td>150.000000</td>\n",
       "      <td>750.000000</td>\n",
       "      <td>15.000000</td>\n",
       "    </tr>\n",
       "    <tr>\n",
       "      <th>50%</th>\n",
       "      <td>20000.000000</td>\n",
       "      <td>200.000000</td>\n",
       "      <td>1000.000000</td>\n",
       "      <td>20.000000</td>\n",
       "    </tr>\n",
       "    <tr>\n",
       "      <th>75%</th>\n",
       "      <td>30000.000000</td>\n",
       "      <td>300.000000</td>\n",
       "      <td>1500.000000</td>\n",
       "      <td>30.000000</td>\n",
       "    </tr>\n",
       "    <tr>\n",
       "      <th>max</th>\n",
       "      <td>40000.000000</td>\n",
       "      <td>400.000000</td>\n",
       "      <td>2000.000000</td>\n",
       "      <td>40.000000</td>\n",
       "    </tr>\n",
       "  </tbody>\n",
       "</table>\n",
       "</div>"
      ],
      "text/plain": [
       "         SumInsured  CalculatedPremiumPerTerm  TotalPremium  TotalClaims\n",
       "count      3.000000                  3.000000      3.000000     3.000000\n",
       "mean   23333.333333                233.333333   1166.666667    23.333333\n",
       "std    15275.252317                152.752523    763.762616    15.275252\n",
       "min    10000.000000                100.000000    500.000000    10.000000\n",
       "25%    15000.000000                150.000000    750.000000    15.000000\n",
       "50%    20000.000000                200.000000   1000.000000    20.000000\n",
       "75%    30000.000000                300.000000   1500.000000    30.000000\n",
       "max    40000.000000                400.000000   2000.000000    40.000000"
      ]
     },
     "metadata": {},
     "output_type": "display_data"
    },
    {
     "name": "stderr",
     "output_type": "stream",
     "text": [
      "ok\n",
      "test_load_df_drops_columns_with_high_nan (__main__.TestDataLoading.test_load_df_drops_columns_with_high_nan) ... "
     ]
    },
    {
     "name": "stdout",
     "output_type": "stream",
     "text": [
      "File read successfully!\n",
      "\n",
      "Coloumns are capitalised.\n",
      "\n",
      "Empty indexes are filled with \"NAN\" values.\n",
      "\n",
      "Coloumns ['EmptyCol'] are dropped.\n",
      "\n",
      "Indexes with empty values are dropped.\n",
      "\n",
      "DataFrame is sorted by TransactionMonth column.\n",
      "\n",
      "DataFrame is preprocessed.\n",
      "\n",
      "Prrocessed DataFrame Saved to: test_output\\processed_insurance_data.csv\n",
      "\n",
      "DataFrame Head:\n"
     ]
    },
    {
     "data": {
      "application/vnd.microsoft.datawrangler.viewer.v0+json": {
       "columns": [
        {
         "name": "index",
         "rawType": "int64",
         "type": "integer"
        },
        {
         "name": "Col1",
         "rawType": "int64",
         "type": "integer"
        },
        {
         "name": "Col2",
         "rawType": "object",
         "type": "string"
        },
        {
         "name": "TransactionMonth",
         "rawType": "datetime64[ns]",
         "type": "datetime"
        },
        {
         "name": "RegistrationYear",
         "rawType": "datetime64[ns]",
         "type": "datetime"
        },
        {
         "name": "VehicleIntroDate",
         "rawType": "datetime64[ns]",
         "type": "datetime"
        },
        {
         "name": "Partialemptycol",
         "rawType": "float64",
         "type": "float"
        },
        {
         "name": "Stringcol",
         "rawType": "object",
         "type": "string"
        },
        {
         "name": "CapitalOutstanding",
         "rawType": "float64",
         "type": "float"
        },
        {
         "name": "Mmcode",
         "rawType": "int64",
         "type": "integer"
        },
        {
         "name": "Cubiccapacity",
         "rawType": "int64",
         "type": "integer"
        },
        {
         "name": "Kilowatts",
         "rawType": "int64",
         "type": "integer"
        },
        {
         "name": "NumberOfDoors",
         "rawType": "int64",
         "type": "integer"
        },
        {
         "name": "Cylinders",
         "rawType": "int64",
         "type": "integer"
        },
        {
         "name": "SumInsured",
         "rawType": "int64",
         "type": "integer"
        },
        {
         "name": "CalculatedPremiumPerTerm",
         "rawType": "int64",
         "type": "integer"
        },
        {
         "name": "TotalPremium",
         "rawType": "int64",
         "type": "integer"
        },
        {
         "name": "TotalClaims",
         "rawType": "int64",
         "type": "integer"
        }
       ],
       "ref": "a148d3ce-bee9-4f64-8801-29a5a192fbdd",
       "rows": [
        [
         "0",
         "1",
         "A",
         "2023-01-01 00:00:00",
         "2020-01-01 00:00:00",
         "2019-01-01 00:00:00",
         "1.0",
         "cat",
         "1.2",
         "101",
         "1000",
         "50",
         "2",
         "4",
         "10000",
         "100",
         "500",
         "10"
        ],
        [
         "1",
         "2",
         "B",
         "2023-03-01 00:00:00",
         "2021-01-01 00:00:00",
         "2020-01-01 00:00:00",
         "2.0",
         "dog",
         "3.4",
         "102",
         "1500",
         "75",
         "4",
         "4",
         "20000",
         "200",
         "1000",
         "20"
        ],
        [
         "2",
         "4",
         "D",
         "2023-04-01 00:00:00",
         "2023-01-01 00:00:00",
         "2022-01-01 00:00:00",
         "4.0",
         "dog",
         "7.8",
         "104",
         "2500",
         "125",
         "2",
         "4",
         "40000",
         "400",
         "2000",
         "40"
        ]
       ],
       "shape": {
        "columns": 17,
        "rows": 3
       }
      },
      "text/html": [
       "<div>\n",
       "<style scoped>\n",
       "    .dataframe tbody tr th:only-of-type {\n",
       "        vertical-align: middle;\n",
       "    }\n",
       "\n",
       "    .dataframe tbody tr th {\n",
       "        vertical-align: top;\n",
       "    }\n",
       "\n",
       "    .dataframe thead th {\n",
       "        text-align: right;\n",
       "    }\n",
       "</style>\n",
       "<table border=\"1\" class=\"dataframe\">\n",
       "  <thead>\n",
       "    <tr style=\"text-align: right;\">\n",
       "      <th></th>\n",
       "      <th>Col1</th>\n",
       "      <th>Col2</th>\n",
       "      <th>TransactionMonth</th>\n",
       "      <th>RegistrationYear</th>\n",
       "      <th>VehicleIntroDate</th>\n",
       "      <th>Partialemptycol</th>\n",
       "      <th>Stringcol</th>\n",
       "      <th>CapitalOutstanding</th>\n",
       "      <th>Mmcode</th>\n",
       "      <th>Cubiccapacity</th>\n",
       "      <th>Kilowatts</th>\n",
       "      <th>NumberOfDoors</th>\n",
       "      <th>Cylinders</th>\n",
       "      <th>SumInsured</th>\n",
       "      <th>CalculatedPremiumPerTerm</th>\n",
       "      <th>TotalPremium</th>\n",
       "      <th>TotalClaims</th>\n",
       "    </tr>\n",
       "  </thead>\n",
       "  <tbody>\n",
       "    <tr>\n",
       "      <th>0</th>\n",
       "      <td>1</td>\n",
       "      <td>A</td>\n",
       "      <td>2023-01-01</td>\n",
       "      <td>2020-01-01</td>\n",
       "      <td>2019-01-01</td>\n",
       "      <td>1.0</td>\n",
       "      <td>cat</td>\n",
       "      <td>1.2</td>\n",
       "      <td>101</td>\n",
       "      <td>1000</td>\n",
       "      <td>50</td>\n",
       "      <td>2</td>\n",
       "      <td>4</td>\n",
       "      <td>10000</td>\n",
       "      <td>100</td>\n",
       "      <td>500</td>\n",
       "      <td>10</td>\n",
       "    </tr>\n",
       "    <tr>\n",
       "      <th>1</th>\n",
       "      <td>2</td>\n",
       "      <td>B</td>\n",
       "      <td>2023-03-01</td>\n",
       "      <td>2021-01-01</td>\n",
       "      <td>2020-01-01</td>\n",
       "      <td>2.0</td>\n",
       "      <td>dog</td>\n",
       "      <td>3.4</td>\n",
       "      <td>102</td>\n",
       "      <td>1500</td>\n",
       "      <td>75</td>\n",
       "      <td>4</td>\n",
       "      <td>4</td>\n",
       "      <td>20000</td>\n",
       "      <td>200</td>\n",
       "      <td>1000</td>\n",
       "      <td>20</td>\n",
       "    </tr>\n",
       "    <tr>\n",
       "      <th>2</th>\n",
       "      <td>4</td>\n",
       "      <td>D</td>\n",
       "      <td>2023-04-01</td>\n",
       "      <td>2023-01-01</td>\n",
       "      <td>2022-01-01</td>\n",
       "      <td>4.0</td>\n",
       "      <td>dog</td>\n",
       "      <td>7.8</td>\n",
       "      <td>104</td>\n",
       "      <td>2500</td>\n",
       "      <td>125</td>\n",
       "      <td>2</td>\n",
       "      <td>4</td>\n",
       "      <td>40000</td>\n",
       "      <td>400</td>\n",
       "      <td>2000</td>\n",
       "      <td>40</td>\n",
       "    </tr>\n",
       "  </tbody>\n",
       "</table>\n",
       "</div>"
      ],
      "text/plain": [
       "   Col1 Col2 TransactionMonth RegistrationYear VehicleIntroDate  \\\n",
       "0     1    A       2023-01-01       2020-01-01       2019-01-01   \n",
       "1     2    B       2023-03-01       2021-01-01       2020-01-01   \n",
       "2     4    D       2023-04-01       2023-01-01       2022-01-01   \n",
       "\n",
       "   Partialemptycol Stringcol  CapitalOutstanding  Mmcode  Cubiccapacity  \\\n",
       "0              1.0       cat                 1.2     101           1000   \n",
       "1              2.0       dog                 3.4     102           1500   \n",
       "2              4.0       dog                 7.8     104           2500   \n",
       "\n",
       "   Kilowatts  NumberOfDoors  Cylinders  SumInsured  CalculatedPremiumPerTerm  \\\n",
       "0         50              2          4       10000                       100   \n",
       "1         75              4          4       20000                       200   \n",
       "2        125              2          4       40000                       400   \n",
       "\n",
       "   TotalPremium  TotalClaims  \n",
       "0           500           10  \n",
       "1          1000           20  \n",
       "2          2000           40  "
      ]
     },
     "metadata": {},
     "output_type": "display_data"
    },
    {
     "name": "stdout",
     "output_type": "stream",
     "text": [
      "\n",
      "DataFrame Info:\n",
      "<class 'pandas.core.frame.DataFrame'>\n",
      "RangeIndex: 3 entries, 0 to 2\n",
      "Data columns (total 17 columns):\n",
      " #   Column                    Non-Null Count  Dtype         \n",
      "---  ------                    --------------  -----         \n",
      " 0   Col1                      3 non-null      int64         \n",
      " 1   Col2                      3 non-null      object        \n",
      " 2   TransactionMonth          3 non-null      datetime64[ns]\n",
      " 3   RegistrationYear          3 non-null      datetime64[ns]\n",
      " 4   VehicleIntroDate          3 non-null      datetime64[ns]\n",
      " 5   Partialemptycol           3 non-null      float64       \n",
      " 6   Stringcol                 3 non-null      object        \n",
      " 7   CapitalOutstanding        3 non-null      float64       \n",
      " 8   Mmcode                    3 non-null      int64         \n",
      " 9   Cubiccapacity             3 non-null      int64         \n",
      " 10  Kilowatts                 3 non-null      int64         \n",
      " 11  NumberOfDoors             3 non-null      int64         \n",
      " 12  Cylinders                 3 non-null      int64         \n",
      " 13  SumInsured                3 non-null      int64         \n",
      " 14  CalculatedPremiumPerTerm  3 non-null      int64         \n",
      " 15  TotalPremium              3 non-null      int64         \n",
      " 16  TotalClaims               3 non-null      int64         \n",
      "dtypes: datetime64[ns](3), float64(2), int64(10), object(2)\n",
      "memory usage: 540.0+ bytes\n",
      "\n",
      "DataFrame Shape:\n"
     ]
    },
    {
     "data": {
      "text/plain": [
       "(3, 17)"
      ]
     },
     "metadata": {},
     "output_type": "display_data"
    },
    {
     "name": "stdout",
     "output_type": "stream",
     "text": [
      "\n",
      "DataFrame Description:\n"
     ]
    },
    {
     "data": {
      "application/vnd.microsoft.datawrangler.viewer.v0+json": {
       "columns": [
        {
         "name": "index",
         "rawType": "object",
         "type": "string"
        },
        {
         "name": "SumInsured",
         "rawType": "float64",
         "type": "float"
        },
        {
         "name": "CalculatedPremiumPerTerm",
         "rawType": "float64",
         "type": "float"
        },
        {
         "name": "TotalPremium",
         "rawType": "float64",
         "type": "float"
        },
        {
         "name": "TotalClaims",
         "rawType": "float64",
         "type": "float"
        }
       ],
       "ref": "85dce945-4bbc-4c47-92d1-61c280c4cb7f",
       "rows": [
        [
         "count",
         "3.0",
         "3.0",
         "3.0",
         "3.0"
        ],
        [
         "mean",
         "23333.333333333332",
         "233.33333333333334",
         "1166.6666666666667",
         "23.333333333333332"
        ],
        [
         "std",
         "15275.252316519465",
         "152.75252316519467",
         "763.7626158259733",
         "15.275252316519467"
        ],
        [
         "min",
         "10000.0",
         "100.0",
         "500.0",
         "10.0"
        ],
        [
         "25%",
         "15000.0",
         "150.0",
         "750.0",
         "15.0"
        ],
        [
         "50%",
         "20000.0",
         "200.0",
         "1000.0",
         "20.0"
        ],
        [
         "75%",
         "30000.0",
         "300.0",
         "1500.0",
         "30.0"
        ],
        [
         "max",
         "40000.0",
         "400.0",
         "2000.0",
         "40.0"
        ]
       ],
       "shape": {
        "columns": 4,
        "rows": 8
       }
      },
      "text/html": [
       "<div>\n",
       "<style scoped>\n",
       "    .dataframe tbody tr th:only-of-type {\n",
       "        vertical-align: middle;\n",
       "    }\n",
       "\n",
       "    .dataframe tbody tr th {\n",
       "        vertical-align: top;\n",
       "    }\n",
       "\n",
       "    .dataframe thead th {\n",
       "        text-align: right;\n",
       "    }\n",
       "</style>\n",
       "<table border=\"1\" class=\"dataframe\">\n",
       "  <thead>\n",
       "    <tr style=\"text-align: right;\">\n",
       "      <th></th>\n",
       "      <th>SumInsured</th>\n",
       "      <th>CalculatedPremiumPerTerm</th>\n",
       "      <th>TotalPremium</th>\n",
       "      <th>TotalClaims</th>\n",
       "    </tr>\n",
       "  </thead>\n",
       "  <tbody>\n",
       "    <tr>\n",
       "      <th>count</th>\n",
       "      <td>3.000000</td>\n",
       "      <td>3.000000</td>\n",
       "      <td>3.000000</td>\n",
       "      <td>3.000000</td>\n",
       "    </tr>\n",
       "    <tr>\n",
       "      <th>mean</th>\n",
       "      <td>23333.333333</td>\n",
       "      <td>233.333333</td>\n",
       "      <td>1166.666667</td>\n",
       "      <td>23.333333</td>\n",
       "    </tr>\n",
       "    <tr>\n",
       "      <th>std</th>\n",
       "      <td>15275.252317</td>\n",
       "      <td>152.752523</td>\n",
       "      <td>763.762616</td>\n",
       "      <td>15.275252</td>\n",
       "    </tr>\n",
       "    <tr>\n",
       "      <th>min</th>\n",
       "      <td>10000.000000</td>\n",
       "      <td>100.000000</td>\n",
       "      <td>500.000000</td>\n",
       "      <td>10.000000</td>\n",
       "    </tr>\n",
       "    <tr>\n",
       "      <th>25%</th>\n",
       "      <td>15000.000000</td>\n",
       "      <td>150.000000</td>\n",
       "      <td>750.000000</td>\n",
       "      <td>15.000000</td>\n",
       "    </tr>\n",
       "    <tr>\n",
       "      <th>50%</th>\n",
       "      <td>20000.000000</td>\n",
       "      <td>200.000000</td>\n",
       "      <td>1000.000000</td>\n",
       "      <td>20.000000</td>\n",
       "    </tr>\n",
       "    <tr>\n",
       "      <th>75%</th>\n",
       "      <td>30000.000000</td>\n",
       "      <td>300.000000</td>\n",
       "      <td>1500.000000</td>\n",
       "      <td>30.000000</td>\n",
       "    </tr>\n",
       "    <tr>\n",
       "      <th>max</th>\n",
       "      <td>40000.000000</td>\n",
       "      <td>400.000000</td>\n",
       "      <td>2000.000000</td>\n",
       "      <td>40.000000</td>\n",
       "    </tr>\n",
       "  </tbody>\n",
       "</table>\n",
       "</div>"
      ],
      "text/plain": [
       "         SumInsured  CalculatedPremiumPerTerm  TotalPremium  TotalClaims\n",
       "count      3.000000                  3.000000      3.000000     3.000000\n",
       "mean   23333.333333                233.333333   1166.666667    23.333333\n",
       "std    15275.252317                152.752523    763.762616    15.275252\n",
       "min    10000.000000                100.000000    500.000000    10.000000\n",
       "25%    15000.000000                150.000000    750.000000    15.000000\n",
       "50%    20000.000000                200.000000   1000.000000    20.000000\n",
       "75%    30000.000000                300.000000   1500.000000    30.000000\n",
       "max    40000.000000                400.000000   2000.000000    40.000000"
      ]
     },
     "metadata": {},
     "output_type": "display_data"
    },
    {
     "name": "stderr",
     "output_type": "stream",
     "text": [
      "ok\n",
      "test_load_df_drops_rows_with_low_nan (__main__.TestDataLoading.test_load_df_drops_rows_with_low_nan) ... "
     ]
    },
    {
     "name": "stdout",
     "output_type": "stream",
     "text": [
      "File read successfully!\n",
      "\n",
      "Coloumns are capitalised.\n",
      "\n",
      "Empty indexes are filled with \"NAN\" values.\n",
      "\n",
      "Coloumns ['EmptyCol'] are dropped.\n",
      "\n",
      "Indexes with empty values are dropped.\n",
      "\n",
      "DataFrame is sorted by TransactionMonth column.\n",
      "\n",
      "DataFrame is preprocessed.\n",
      "\n",
      "Prrocessed DataFrame Saved to: test_output\\processed_insurance_data.csv\n",
      "\n",
      "DataFrame Head:\n"
     ]
    },
    {
     "data": {
      "application/vnd.microsoft.datawrangler.viewer.v0+json": {
       "columns": [
        {
         "name": "index",
         "rawType": "int64",
         "type": "integer"
        },
        {
         "name": "Col1",
         "rawType": "float64",
         "type": "float"
        },
        {
         "name": "Col2",
         "rawType": "object",
         "type": "string"
        },
        {
         "name": "TransactionMonth",
         "rawType": "datetime64[ns]",
         "type": "datetime"
        },
        {
         "name": "RegistrationYear",
         "rawType": "datetime64[ns]",
         "type": "datetime"
        },
        {
         "name": "VehicleIntroDate",
         "rawType": "datetime64[ns]",
         "type": "datetime"
        },
        {
         "name": "PartialEmptyCol",
         "rawType": "float64",
         "type": "float"
        },
        {
         "name": "StringCol",
         "rawType": "object",
         "type": "string"
        },
        {
         "name": "CapitalOutstanding",
         "rawType": "float64",
         "type": "float"
        },
        {
         "name": "Mmcode",
         "rawType": "int64",
         "type": "integer"
        },
        {
         "name": "Cubiccapacity",
         "rawType": "int64",
         "type": "integer"
        },
        {
         "name": "Kilowatts",
         "rawType": "int64",
         "type": "integer"
        },
        {
         "name": "NumberOfDoors",
         "rawType": "int64",
         "type": "integer"
        },
        {
         "name": "Cylinders",
         "rawType": "int64",
         "type": "integer"
        },
        {
         "name": "SumInsured",
         "rawType": "int64",
         "type": "integer"
        },
        {
         "name": "CalculatedPremiumPerTerm",
         "rawType": "int64",
         "type": "integer"
        },
        {
         "name": "TotalPremium",
         "rawType": "int64",
         "type": "integer"
        },
        {
         "name": "TotalClaims",
         "rawType": "int64",
         "type": "integer"
        }
       ],
       "ref": "2c481ff7-555e-4459-a58a-6ffca8ea1dab",
       "rows": [
        [
         "0",
         "1.0",
         "A",
         "2023-01-01 00:00:00",
         "2020-01-01 00:00:00",
         "2019-01-01 00:00:00",
         "1.0",
         "cat",
         "1.2",
         "101",
         "1000",
         "50",
         "2",
         "4",
         "10000",
         "100",
         "500",
         "10"
        ],
        [
         "1",
         "2.0",
         "B",
         "2023-03-01 00:00:00",
         "2021-01-01 00:00:00",
         "2020-01-01 00:00:00",
         "2.0",
         "dog",
         "3.4",
         "102",
         "1500",
         "75",
         "4",
         "4",
         "20000",
         "200",
         "1000",
         "20"
        ],
        [
         "2",
         "4.0",
         "D",
         "2023-04-01 00:00:00",
         "2023-01-01 00:00:00",
         "2022-01-01 00:00:00",
         "4.0",
         "dog",
         "7.8",
         "104",
         "2500",
         "125",
         "2",
         "4",
         "40000",
         "400",
         "2000",
         "40"
        ]
       ],
       "shape": {
        "columns": 17,
        "rows": 3
       }
      },
      "text/html": [
       "<div>\n",
       "<style scoped>\n",
       "    .dataframe tbody tr th:only-of-type {\n",
       "        vertical-align: middle;\n",
       "    }\n",
       "\n",
       "    .dataframe tbody tr th {\n",
       "        vertical-align: top;\n",
       "    }\n",
       "\n",
       "    .dataframe thead th {\n",
       "        text-align: right;\n",
       "    }\n",
       "</style>\n",
       "<table border=\"1\" class=\"dataframe\">\n",
       "  <thead>\n",
       "    <tr style=\"text-align: right;\">\n",
       "      <th></th>\n",
       "      <th>Col1</th>\n",
       "      <th>Col2</th>\n",
       "      <th>TransactionMonth</th>\n",
       "      <th>RegistrationYear</th>\n",
       "      <th>VehicleIntroDate</th>\n",
       "      <th>PartialEmptyCol</th>\n",
       "      <th>StringCol</th>\n",
       "      <th>CapitalOutstanding</th>\n",
       "      <th>Mmcode</th>\n",
       "      <th>Cubiccapacity</th>\n",
       "      <th>Kilowatts</th>\n",
       "      <th>NumberOfDoors</th>\n",
       "      <th>Cylinders</th>\n",
       "      <th>SumInsured</th>\n",
       "      <th>CalculatedPremiumPerTerm</th>\n",
       "      <th>TotalPremium</th>\n",
       "      <th>TotalClaims</th>\n",
       "    </tr>\n",
       "  </thead>\n",
       "  <tbody>\n",
       "    <tr>\n",
       "      <th>0</th>\n",
       "      <td>1.0</td>\n",
       "      <td>A</td>\n",
       "      <td>2023-01-01</td>\n",
       "      <td>2020-01-01</td>\n",
       "      <td>2019-01-01</td>\n",
       "      <td>1.0</td>\n",
       "      <td>cat</td>\n",
       "      <td>1.2</td>\n",
       "      <td>101</td>\n",
       "      <td>1000</td>\n",
       "      <td>50</td>\n",
       "      <td>2</td>\n",
       "      <td>4</td>\n",
       "      <td>10000</td>\n",
       "      <td>100</td>\n",
       "      <td>500</td>\n",
       "      <td>10</td>\n",
       "    </tr>\n",
       "    <tr>\n",
       "      <th>1</th>\n",
       "      <td>2.0</td>\n",
       "      <td>B</td>\n",
       "      <td>2023-03-01</td>\n",
       "      <td>2021-01-01</td>\n",
       "      <td>2020-01-01</td>\n",
       "      <td>2.0</td>\n",
       "      <td>dog</td>\n",
       "      <td>3.4</td>\n",
       "      <td>102</td>\n",
       "      <td>1500</td>\n",
       "      <td>75</td>\n",
       "      <td>4</td>\n",
       "      <td>4</td>\n",
       "      <td>20000</td>\n",
       "      <td>200</td>\n",
       "      <td>1000</td>\n",
       "      <td>20</td>\n",
       "    </tr>\n",
       "    <tr>\n",
       "      <th>2</th>\n",
       "      <td>4.0</td>\n",
       "      <td>D</td>\n",
       "      <td>2023-04-01</td>\n",
       "      <td>2023-01-01</td>\n",
       "      <td>2022-01-01</td>\n",
       "      <td>4.0</td>\n",
       "      <td>dog</td>\n",
       "      <td>7.8</td>\n",
       "      <td>104</td>\n",
       "      <td>2500</td>\n",
       "      <td>125</td>\n",
       "      <td>2</td>\n",
       "      <td>4</td>\n",
       "      <td>40000</td>\n",
       "      <td>400</td>\n",
       "      <td>2000</td>\n",
       "      <td>40</td>\n",
       "    </tr>\n",
       "  </tbody>\n",
       "</table>\n",
       "</div>"
      ],
      "text/plain": [
       "   Col1 Col2 TransactionMonth RegistrationYear VehicleIntroDate  \\\n",
       "0   1.0    A       2023-01-01       2020-01-01       2019-01-01   \n",
       "1   2.0    B       2023-03-01       2021-01-01       2020-01-01   \n",
       "2   4.0    D       2023-04-01       2023-01-01       2022-01-01   \n",
       "\n",
       "   PartialEmptyCol StringCol  CapitalOutstanding  Mmcode  Cubiccapacity  \\\n",
       "0              1.0       cat                 1.2     101           1000   \n",
       "1              2.0       dog                 3.4     102           1500   \n",
       "2              4.0       dog                 7.8     104           2500   \n",
       "\n",
       "   Kilowatts  NumberOfDoors  Cylinders  SumInsured  CalculatedPremiumPerTerm  \\\n",
       "0         50              2          4       10000                       100   \n",
       "1         75              4          4       20000                       200   \n",
       "2        125              2          4       40000                       400   \n",
       "\n",
       "   TotalPremium  TotalClaims  \n",
       "0           500           10  \n",
       "1          1000           20  \n",
       "2          2000           40  "
      ]
     },
     "metadata": {},
     "output_type": "display_data"
    },
    {
     "name": "stdout",
     "output_type": "stream",
     "text": [
      "\n",
      "DataFrame Info:\n",
      "<class 'pandas.core.frame.DataFrame'>\n",
      "RangeIndex: 3 entries, 0 to 2\n",
      "Data columns (total 17 columns):\n",
      " #   Column                    Non-Null Count  Dtype         \n",
      "---  ------                    --------------  -----         \n",
      " 0   Col1                      3 non-null      float64       \n",
      " 1   Col2                      3 non-null      object        \n",
      " 2   TransactionMonth          3 non-null      datetime64[ns]\n",
      " 3   RegistrationYear          3 non-null      datetime64[ns]\n",
      " 4   VehicleIntroDate          3 non-null      datetime64[ns]\n",
      " 5   PartialEmptyCol           3 non-null      float64       \n",
      " 6   StringCol                 3 non-null      object        \n",
      " 7   CapitalOutstanding        3 non-null      float64       \n",
      " 8   Mmcode                    3 non-null      int64         \n",
      " 9   Cubiccapacity             3 non-null      int64         \n",
      " 10  Kilowatts                 3 non-null      int64         \n",
      " 11  NumberOfDoors             3 non-null      int64         \n",
      " 12  Cylinders                 3 non-null      int64         \n",
      " 13  SumInsured                3 non-null      int64         \n",
      " 14  CalculatedPremiumPerTerm  3 non-null      int64         \n",
      " 15  TotalPremium              3 non-null      int64         \n",
      " 16  TotalClaims               3 non-null      int64         \n",
      "dtypes: datetime64[ns](3), float64(3), int64(9), object(2)\n",
      "memory usage: 540.0+ bytes\n",
      "\n",
      "DataFrame Shape:\n"
     ]
    },
    {
     "data": {
      "text/plain": [
       "(3, 17)"
      ]
     },
     "metadata": {},
     "output_type": "display_data"
    },
    {
     "name": "stdout",
     "output_type": "stream",
     "text": [
      "\n",
      "DataFrame Description:\n"
     ]
    },
    {
     "data": {
      "application/vnd.microsoft.datawrangler.viewer.v0+json": {
       "columns": [
        {
         "name": "index",
         "rawType": "object",
         "type": "string"
        },
        {
         "name": "SumInsured",
         "rawType": "float64",
         "type": "float"
        },
        {
         "name": "CalculatedPremiumPerTerm",
         "rawType": "float64",
         "type": "float"
        },
        {
         "name": "TotalPremium",
         "rawType": "float64",
         "type": "float"
        },
        {
         "name": "TotalClaims",
         "rawType": "float64",
         "type": "float"
        }
       ],
       "ref": "5682fd3e-de38-4956-a48f-55572a6e1044",
       "rows": [
        [
         "count",
         "3.0",
         "3.0",
         "3.0",
         "3.0"
        ],
        [
         "mean",
         "23333.333333333332",
         "233.33333333333334",
         "1166.6666666666667",
         "23.333333333333332"
        ],
        [
         "std",
         "15275.252316519465",
         "152.75252316519467",
         "763.7626158259733",
         "15.275252316519467"
        ],
        [
         "min",
         "10000.0",
         "100.0",
         "500.0",
         "10.0"
        ],
        [
         "25%",
         "15000.0",
         "150.0",
         "750.0",
         "15.0"
        ],
        [
         "50%",
         "20000.0",
         "200.0",
         "1000.0",
         "20.0"
        ],
        [
         "75%",
         "30000.0",
         "300.0",
         "1500.0",
         "30.0"
        ],
        [
         "max",
         "40000.0",
         "400.0",
         "2000.0",
         "40.0"
        ]
       ],
       "shape": {
        "columns": 4,
        "rows": 8
       }
      },
      "text/html": [
       "<div>\n",
       "<style scoped>\n",
       "    .dataframe tbody tr th:only-of-type {\n",
       "        vertical-align: middle;\n",
       "    }\n",
       "\n",
       "    .dataframe tbody tr th {\n",
       "        vertical-align: top;\n",
       "    }\n",
       "\n",
       "    .dataframe thead th {\n",
       "        text-align: right;\n",
       "    }\n",
       "</style>\n",
       "<table border=\"1\" class=\"dataframe\">\n",
       "  <thead>\n",
       "    <tr style=\"text-align: right;\">\n",
       "      <th></th>\n",
       "      <th>SumInsured</th>\n",
       "      <th>CalculatedPremiumPerTerm</th>\n",
       "      <th>TotalPremium</th>\n",
       "      <th>TotalClaims</th>\n",
       "    </tr>\n",
       "  </thead>\n",
       "  <tbody>\n",
       "    <tr>\n",
       "      <th>count</th>\n",
       "      <td>3.000000</td>\n",
       "      <td>3.000000</td>\n",
       "      <td>3.000000</td>\n",
       "      <td>3.000000</td>\n",
       "    </tr>\n",
       "    <tr>\n",
       "      <th>mean</th>\n",
       "      <td>23333.333333</td>\n",
       "      <td>233.333333</td>\n",
       "      <td>1166.666667</td>\n",
       "      <td>23.333333</td>\n",
       "    </tr>\n",
       "    <tr>\n",
       "      <th>std</th>\n",
       "      <td>15275.252317</td>\n",
       "      <td>152.752523</td>\n",
       "      <td>763.762616</td>\n",
       "      <td>15.275252</td>\n",
       "    </tr>\n",
       "    <tr>\n",
       "      <th>min</th>\n",
       "      <td>10000.000000</td>\n",
       "      <td>100.000000</td>\n",
       "      <td>500.000000</td>\n",
       "      <td>10.000000</td>\n",
       "    </tr>\n",
       "    <tr>\n",
       "      <th>25%</th>\n",
       "      <td>15000.000000</td>\n",
       "      <td>150.000000</td>\n",
       "      <td>750.000000</td>\n",
       "      <td>15.000000</td>\n",
       "    </tr>\n",
       "    <tr>\n",
       "      <th>50%</th>\n",
       "      <td>20000.000000</td>\n",
       "      <td>200.000000</td>\n",
       "      <td>1000.000000</td>\n",
       "      <td>20.000000</td>\n",
       "    </tr>\n",
       "    <tr>\n",
       "      <th>75%</th>\n",
       "      <td>30000.000000</td>\n",
       "      <td>300.000000</td>\n",
       "      <td>1500.000000</td>\n",
       "      <td>30.000000</td>\n",
       "    </tr>\n",
       "    <tr>\n",
       "      <th>max</th>\n",
       "      <td>40000.000000</td>\n",
       "      <td>400.000000</td>\n",
       "      <td>2000.000000</td>\n",
       "      <td>40.000000</td>\n",
       "    </tr>\n",
       "  </tbody>\n",
       "</table>\n",
       "</div>"
      ],
      "text/plain": [
       "         SumInsured  CalculatedPremiumPerTerm  TotalPremium  TotalClaims\n",
       "count      3.000000                  3.000000      3.000000     3.000000\n",
       "mean   23333.333333                233.333333   1166.666667    23.333333\n",
       "std    15275.252317                152.752523    763.762616    15.275252\n",
       "min    10000.000000                100.000000    500.000000    10.000000\n",
       "25%    15000.000000                150.000000    750.000000    15.000000\n",
       "50%    20000.000000                200.000000   1000.000000    20.000000\n",
       "75%    30000.000000                300.000000   1500.000000    30.000000\n",
       "max    40000.000000                400.000000   2000.000000    40.000000"
      ]
     },
     "metadata": {},
     "output_type": "display_data"
    },
    {
     "name": "stderr",
     "output_type": "stream",
     "text": [
      "ok\n",
      "test_load_df_dtype_conversion_float (__main__.TestDataLoading.test_load_df_dtype_conversion_float) ... "
     ]
    },
    {
     "name": "stdout",
     "output_type": "stream",
     "text": [
      "File read successfully!\n",
      "\n",
      "Coloumns are capitalised.\n",
      "\n",
      "Empty indexes are filled with \"NAN\" values.\n",
      "\n",
      "Coloumns ['EmptyCol'] are dropped.\n",
      "\n",
      "Indexes with empty values are dropped.\n",
      "\n",
      "DataFrame is sorted by TransactionMonth column.\n",
      "\n",
      "DataFrame is preprocessed.\n",
      "\n",
      "Prrocessed DataFrame Saved to: test_output\\processed_insurance_data.csv\n",
      "\n",
      "DataFrame Head:\n"
     ]
    },
    {
     "data": {
      "application/vnd.microsoft.datawrangler.viewer.v0+json": {
       "columns": [
        {
         "name": "index",
         "rawType": "int64",
         "type": "integer"
        },
        {
         "name": "Col1",
         "rawType": "int64",
         "type": "integer"
        },
        {
         "name": "Col2",
         "rawType": "object",
         "type": "string"
        },
        {
         "name": "TransactionMonth",
         "rawType": "datetime64[ns]",
         "type": "datetime"
        },
        {
         "name": "RegistrationYear",
         "rawType": "datetime64[ns]",
         "type": "datetime"
        },
        {
         "name": "VehicleIntroDate",
         "rawType": "datetime64[ns]",
         "type": "datetime"
        },
        {
         "name": "Partialemptycol",
         "rawType": "float64",
         "type": "float"
        },
        {
         "name": "Stringcol",
         "rawType": "object",
         "type": "string"
        },
        {
         "name": "CapitalOutstanding",
         "rawType": "float64",
         "type": "float"
        },
        {
         "name": "Mmcode",
         "rawType": "int64",
         "type": "integer"
        },
        {
         "name": "Cubiccapacity",
         "rawType": "int64",
         "type": "integer"
        },
        {
         "name": "Kilowatts",
         "rawType": "int64",
         "type": "integer"
        },
        {
         "name": "NumberOfDoors",
         "rawType": "int64",
         "type": "integer"
        },
        {
         "name": "Cylinders",
         "rawType": "int64",
         "type": "integer"
        },
        {
         "name": "SumInsured",
         "rawType": "int64",
         "type": "integer"
        },
        {
         "name": "CalculatedPremiumPerTerm",
         "rawType": "int64",
         "type": "integer"
        },
        {
         "name": "TotalPremium",
         "rawType": "int64",
         "type": "integer"
        },
        {
         "name": "TotalClaims",
         "rawType": "int64",
         "type": "integer"
        }
       ],
       "ref": "bbae6c4d-86ad-40e0-84fc-d1286adb086d",
       "rows": [
        [
         "0",
         "1",
         "A",
         "2023-01-01 00:00:00",
         "2020-01-01 00:00:00",
         "2019-01-01 00:00:00",
         "1.0",
         "cat",
         "1.2",
         "101",
         "1000",
         "50",
         "2",
         "4",
         "10000",
         "100",
         "500",
         "10"
        ],
        [
         "1",
         "2",
         "B",
         "2023-03-01 00:00:00",
         "2021-01-01 00:00:00",
         "2020-01-01 00:00:00",
         "2.0",
         "dog",
         "3.4",
         "102",
         "1500",
         "75",
         "4",
         "4",
         "20000",
         "200",
         "1000",
         "20"
        ],
        [
         "2",
         "4",
         "D",
         "2023-04-01 00:00:00",
         "2023-01-01 00:00:00",
         "2022-01-01 00:00:00",
         "4.0",
         "dog",
         "7.8",
         "104",
         "2500",
         "125",
         "2",
         "4",
         "40000",
         "400",
         "2000",
         "40"
        ]
       ],
       "shape": {
        "columns": 17,
        "rows": 3
       }
      },
      "text/html": [
       "<div>\n",
       "<style scoped>\n",
       "    .dataframe tbody tr th:only-of-type {\n",
       "        vertical-align: middle;\n",
       "    }\n",
       "\n",
       "    .dataframe tbody tr th {\n",
       "        vertical-align: top;\n",
       "    }\n",
       "\n",
       "    .dataframe thead th {\n",
       "        text-align: right;\n",
       "    }\n",
       "</style>\n",
       "<table border=\"1\" class=\"dataframe\">\n",
       "  <thead>\n",
       "    <tr style=\"text-align: right;\">\n",
       "      <th></th>\n",
       "      <th>Col1</th>\n",
       "      <th>Col2</th>\n",
       "      <th>TransactionMonth</th>\n",
       "      <th>RegistrationYear</th>\n",
       "      <th>VehicleIntroDate</th>\n",
       "      <th>Partialemptycol</th>\n",
       "      <th>Stringcol</th>\n",
       "      <th>CapitalOutstanding</th>\n",
       "      <th>Mmcode</th>\n",
       "      <th>Cubiccapacity</th>\n",
       "      <th>Kilowatts</th>\n",
       "      <th>NumberOfDoors</th>\n",
       "      <th>Cylinders</th>\n",
       "      <th>SumInsured</th>\n",
       "      <th>CalculatedPremiumPerTerm</th>\n",
       "      <th>TotalPremium</th>\n",
       "      <th>TotalClaims</th>\n",
       "    </tr>\n",
       "  </thead>\n",
       "  <tbody>\n",
       "    <tr>\n",
       "      <th>0</th>\n",
       "      <td>1</td>\n",
       "      <td>A</td>\n",
       "      <td>2023-01-01</td>\n",
       "      <td>2020-01-01</td>\n",
       "      <td>2019-01-01</td>\n",
       "      <td>1.0</td>\n",
       "      <td>cat</td>\n",
       "      <td>1.2</td>\n",
       "      <td>101</td>\n",
       "      <td>1000</td>\n",
       "      <td>50</td>\n",
       "      <td>2</td>\n",
       "      <td>4</td>\n",
       "      <td>10000</td>\n",
       "      <td>100</td>\n",
       "      <td>500</td>\n",
       "      <td>10</td>\n",
       "    </tr>\n",
       "    <tr>\n",
       "      <th>1</th>\n",
       "      <td>2</td>\n",
       "      <td>B</td>\n",
       "      <td>2023-03-01</td>\n",
       "      <td>2021-01-01</td>\n",
       "      <td>2020-01-01</td>\n",
       "      <td>2.0</td>\n",
       "      <td>dog</td>\n",
       "      <td>3.4</td>\n",
       "      <td>102</td>\n",
       "      <td>1500</td>\n",
       "      <td>75</td>\n",
       "      <td>4</td>\n",
       "      <td>4</td>\n",
       "      <td>20000</td>\n",
       "      <td>200</td>\n",
       "      <td>1000</td>\n",
       "      <td>20</td>\n",
       "    </tr>\n",
       "    <tr>\n",
       "      <th>2</th>\n",
       "      <td>4</td>\n",
       "      <td>D</td>\n",
       "      <td>2023-04-01</td>\n",
       "      <td>2023-01-01</td>\n",
       "      <td>2022-01-01</td>\n",
       "      <td>4.0</td>\n",
       "      <td>dog</td>\n",
       "      <td>7.8</td>\n",
       "      <td>104</td>\n",
       "      <td>2500</td>\n",
       "      <td>125</td>\n",
       "      <td>2</td>\n",
       "      <td>4</td>\n",
       "      <td>40000</td>\n",
       "      <td>400</td>\n",
       "      <td>2000</td>\n",
       "      <td>40</td>\n",
       "    </tr>\n",
       "  </tbody>\n",
       "</table>\n",
       "</div>"
      ],
      "text/plain": [
       "   Col1 Col2 TransactionMonth RegistrationYear VehicleIntroDate  \\\n",
       "0     1    A       2023-01-01       2020-01-01       2019-01-01   \n",
       "1     2    B       2023-03-01       2021-01-01       2020-01-01   \n",
       "2     4    D       2023-04-01       2023-01-01       2022-01-01   \n",
       "\n",
       "   Partialemptycol Stringcol  CapitalOutstanding  Mmcode  Cubiccapacity  \\\n",
       "0              1.0       cat                 1.2     101           1000   \n",
       "1              2.0       dog                 3.4     102           1500   \n",
       "2              4.0       dog                 7.8     104           2500   \n",
       "\n",
       "   Kilowatts  NumberOfDoors  Cylinders  SumInsured  CalculatedPremiumPerTerm  \\\n",
       "0         50              2          4       10000                       100   \n",
       "1         75              4          4       20000                       200   \n",
       "2        125              2          4       40000                       400   \n",
       "\n",
       "   TotalPremium  TotalClaims  \n",
       "0           500           10  \n",
       "1          1000           20  \n",
       "2          2000           40  "
      ]
     },
     "metadata": {},
     "output_type": "display_data"
    },
    {
     "name": "stdout",
     "output_type": "stream",
     "text": [
      "\n",
      "DataFrame Info:\n",
      "<class 'pandas.core.frame.DataFrame'>\n",
      "RangeIndex: 3 entries, 0 to 2\n",
      "Data columns (total 17 columns):\n",
      " #   Column                    Non-Null Count  Dtype         \n",
      "---  ------                    --------------  -----         \n",
      " 0   Col1                      3 non-null      int64         \n",
      " 1   Col2                      3 non-null      object        \n",
      " 2   TransactionMonth          3 non-null      datetime64[ns]\n",
      " 3   RegistrationYear          3 non-null      datetime64[ns]\n",
      " 4   VehicleIntroDate          3 non-null      datetime64[ns]\n",
      " 5   Partialemptycol           3 non-null      float64       \n",
      " 6   Stringcol                 3 non-null      object        \n",
      " 7   CapitalOutstanding        3 non-null      float64       \n",
      " 8   Mmcode                    3 non-null      int64         \n",
      " 9   Cubiccapacity             3 non-null      int64         \n",
      " 10  Kilowatts                 3 non-null      int64         \n",
      " 11  NumberOfDoors             3 non-null      int64         \n",
      " 12  Cylinders                 3 non-null      int64         \n",
      " 13  SumInsured                3 non-null      int64         \n",
      " 14  CalculatedPremiumPerTerm  3 non-null      int64         \n",
      " 15  TotalPremium              3 non-null      int64         \n",
      " 16  TotalClaims               3 non-null      int64         \n",
      "dtypes: datetime64[ns](3), float64(2), int64(10), object(2)\n",
      "memory usage: 540.0+ bytes\n",
      "\n",
      "DataFrame Shape:\n"
     ]
    },
    {
     "data": {
      "text/plain": [
       "(3, 17)"
      ]
     },
     "metadata": {},
     "output_type": "display_data"
    },
    {
     "name": "stdout",
     "output_type": "stream",
     "text": [
      "\n",
      "DataFrame Description:\n"
     ]
    },
    {
     "data": {
      "application/vnd.microsoft.datawrangler.viewer.v0+json": {
       "columns": [
        {
         "name": "index",
         "rawType": "object",
         "type": "string"
        },
        {
         "name": "SumInsured",
         "rawType": "float64",
         "type": "float"
        },
        {
         "name": "CalculatedPremiumPerTerm",
         "rawType": "float64",
         "type": "float"
        },
        {
         "name": "TotalPremium",
         "rawType": "float64",
         "type": "float"
        },
        {
         "name": "TotalClaims",
         "rawType": "float64",
         "type": "float"
        }
       ],
       "ref": "a71f51be-f63b-4912-8c4a-2d861e299b3b",
       "rows": [
        [
         "count",
         "3.0",
         "3.0",
         "3.0",
         "3.0"
        ],
        [
         "mean",
         "23333.333333333332",
         "233.33333333333334",
         "1166.6666666666667",
         "23.333333333333332"
        ],
        [
         "std",
         "15275.252316519465",
         "152.75252316519467",
         "763.7626158259733",
         "15.275252316519467"
        ],
        [
         "min",
         "10000.0",
         "100.0",
         "500.0",
         "10.0"
        ],
        [
         "25%",
         "15000.0",
         "150.0",
         "750.0",
         "15.0"
        ],
        [
         "50%",
         "20000.0",
         "200.0",
         "1000.0",
         "20.0"
        ],
        [
         "75%",
         "30000.0",
         "300.0",
         "1500.0",
         "30.0"
        ],
        [
         "max",
         "40000.0",
         "400.0",
         "2000.0",
         "40.0"
        ]
       ],
       "shape": {
        "columns": 4,
        "rows": 8
       }
      },
      "text/html": [
       "<div>\n",
       "<style scoped>\n",
       "    .dataframe tbody tr th:only-of-type {\n",
       "        vertical-align: middle;\n",
       "    }\n",
       "\n",
       "    .dataframe tbody tr th {\n",
       "        vertical-align: top;\n",
       "    }\n",
       "\n",
       "    .dataframe thead th {\n",
       "        text-align: right;\n",
       "    }\n",
       "</style>\n",
       "<table border=\"1\" class=\"dataframe\">\n",
       "  <thead>\n",
       "    <tr style=\"text-align: right;\">\n",
       "      <th></th>\n",
       "      <th>SumInsured</th>\n",
       "      <th>CalculatedPremiumPerTerm</th>\n",
       "      <th>TotalPremium</th>\n",
       "      <th>TotalClaims</th>\n",
       "    </tr>\n",
       "  </thead>\n",
       "  <tbody>\n",
       "    <tr>\n",
       "      <th>count</th>\n",
       "      <td>3.000000</td>\n",
       "      <td>3.000000</td>\n",
       "      <td>3.000000</td>\n",
       "      <td>3.000000</td>\n",
       "    </tr>\n",
       "    <tr>\n",
       "      <th>mean</th>\n",
       "      <td>23333.333333</td>\n",
       "      <td>233.333333</td>\n",
       "      <td>1166.666667</td>\n",
       "      <td>23.333333</td>\n",
       "    </tr>\n",
       "    <tr>\n",
       "      <th>std</th>\n",
       "      <td>15275.252317</td>\n",
       "      <td>152.752523</td>\n",
       "      <td>763.762616</td>\n",
       "      <td>15.275252</td>\n",
       "    </tr>\n",
       "    <tr>\n",
       "      <th>min</th>\n",
       "      <td>10000.000000</td>\n",
       "      <td>100.000000</td>\n",
       "      <td>500.000000</td>\n",
       "      <td>10.000000</td>\n",
       "    </tr>\n",
       "    <tr>\n",
       "      <th>25%</th>\n",
       "      <td>15000.000000</td>\n",
       "      <td>150.000000</td>\n",
       "      <td>750.000000</td>\n",
       "      <td>15.000000</td>\n",
       "    </tr>\n",
       "    <tr>\n",
       "      <th>50%</th>\n",
       "      <td>20000.000000</td>\n",
       "      <td>200.000000</td>\n",
       "      <td>1000.000000</td>\n",
       "      <td>20.000000</td>\n",
       "    </tr>\n",
       "    <tr>\n",
       "      <th>75%</th>\n",
       "      <td>30000.000000</td>\n",
       "      <td>300.000000</td>\n",
       "      <td>1500.000000</td>\n",
       "      <td>30.000000</td>\n",
       "    </tr>\n",
       "    <tr>\n",
       "      <th>max</th>\n",
       "      <td>40000.000000</td>\n",
       "      <td>400.000000</td>\n",
       "      <td>2000.000000</td>\n",
       "      <td>40.000000</td>\n",
       "    </tr>\n",
       "  </tbody>\n",
       "</table>\n",
       "</div>"
      ],
      "text/plain": [
       "         SumInsured  CalculatedPremiumPerTerm  TotalPremium  TotalClaims\n",
       "count      3.000000                  3.000000      3.000000     3.000000\n",
       "mean   23333.333333                233.333333   1166.666667    23.333333\n",
       "std    15275.252317                152.752523    763.762616    15.275252\n",
       "min    10000.000000                100.000000    500.000000    10.000000\n",
       "25%    15000.000000                150.000000    750.000000    15.000000\n",
       "50%    20000.000000                200.000000   1000.000000    20.000000\n",
       "75%    30000.000000                300.000000   1500.000000    30.000000\n",
       "max    40000.000000                400.000000   2000.000000    40.000000"
      ]
     },
     "metadata": {},
     "output_type": "display_data"
    },
    {
     "name": "stderr",
     "output_type": "stream",
     "text": [
      "ok\n",
      "test_load_df_dtype_conversion_int (__main__.TestDataLoading.test_load_df_dtype_conversion_int) ... "
     ]
    },
    {
     "name": "stdout",
     "output_type": "stream",
     "text": [
      "File read successfully!\n",
      "\n",
      "Coloumns are capitalised.\n",
      "\n",
      "Empty indexes are filled with \"NAN\" values.\n",
      "\n",
      "Coloumns ['EmptyCol'] are dropped.\n",
      "\n",
      "Indexes with empty values are dropped.\n",
      "\n",
      "DataFrame is sorted by TransactionMonth column.\n",
      "\n",
      "DataFrame is preprocessed.\n",
      "\n",
      "Prrocessed DataFrame Saved to: test_output\\processed_insurance_data.csv\n",
      "\n",
      "DataFrame Head:\n"
     ]
    },
    {
     "data": {
      "application/vnd.microsoft.datawrangler.viewer.v0+json": {
       "columns": [
        {
         "name": "index",
         "rawType": "int64",
         "type": "integer"
        },
        {
         "name": "Col1",
         "rawType": "int64",
         "type": "integer"
        },
        {
         "name": "Col2",
         "rawType": "object",
         "type": "string"
        },
        {
         "name": "TransactionMonth",
         "rawType": "datetime64[ns]",
         "type": "datetime"
        },
        {
         "name": "RegistrationYear",
         "rawType": "datetime64[ns]",
         "type": "datetime"
        },
        {
         "name": "VehicleIntroDate",
         "rawType": "datetime64[ns]",
         "type": "datetime"
        },
        {
         "name": "Partialemptycol",
         "rawType": "float64",
         "type": "float"
        },
        {
         "name": "Stringcol",
         "rawType": "object",
         "type": "string"
        },
        {
         "name": "CapitalOutstanding",
         "rawType": "float64",
         "type": "float"
        },
        {
         "name": "Mmcode",
         "rawType": "int64",
         "type": "integer"
        },
        {
         "name": "Cubiccapacity",
         "rawType": "int64",
         "type": "integer"
        },
        {
         "name": "Kilowatts",
         "rawType": "int64",
         "type": "integer"
        },
        {
         "name": "NumberOfDoors",
         "rawType": "int64",
         "type": "integer"
        },
        {
         "name": "Cylinders",
         "rawType": "int64",
         "type": "integer"
        },
        {
         "name": "SumInsured",
         "rawType": "int64",
         "type": "integer"
        },
        {
         "name": "CalculatedPremiumPerTerm",
         "rawType": "int64",
         "type": "integer"
        },
        {
         "name": "TotalPremium",
         "rawType": "int64",
         "type": "integer"
        },
        {
         "name": "TotalClaims",
         "rawType": "int64",
         "type": "integer"
        }
       ],
       "ref": "8c593b0e-40e7-4ac8-9eaf-b37a362991d5",
       "rows": [
        [
         "0",
         "1",
         "A",
         "2023-01-01 00:00:00",
         "2020-01-01 00:00:00",
         "2019-01-01 00:00:00",
         "1.0",
         "cat",
         "1.2",
         "101",
         "1000",
         "50",
         "2",
         "4",
         "10000",
         "100",
         "500",
         "10"
        ],
        [
         "1",
         "2",
         "B",
         "2023-03-01 00:00:00",
         "2021-01-01 00:00:00",
         "2020-01-01 00:00:00",
         "2.0",
         "dog",
         "3.4",
         "102",
         "1500",
         "75",
         "4",
         "4",
         "20000",
         "200",
         "1000",
         "20"
        ],
        [
         "2",
         "4",
         "D",
         "2023-04-01 00:00:00",
         "2023-01-01 00:00:00",
         "2022-01-01 00:00:00",
         "4.0",
         "dog",
         "7.8",
         "104",
         "2500",
         "125",
         "2",
         "4",
         "40000",
         "400",
         "2000",
         "40"
        ]
       ],
       "shape": {
        "columns": 17,
        "rows": 3
       }
      },
      "text/html": [
       "<div>\n",
       "<style scoped>\n",
       "    .dataframe tbody tr th:only-of-type {\n",
       "        vertical-align: middle;\n",
       "    }\n",
       "\n",
       "    .dataframe tbody tr th {\n",
       "        vertical-align: top;\n",
       "    }\n",
       "\n",
       "    .dataframe thead th {\n",
       "        text-align: right;\n",
       "    }\n",
       "</style>\n",
       "<table border=\"1\" class=\"dataframe\">\n",
       "  <thead>\n",
       "    <tr style=\"text-align: right;\">\n",
       "      <th></th>\n",
       "      <th>Col1</th>\n",
       "      <th>Col2</th>\n",
       "      <th>TransactionMonth</th>\n",
       "      <th>RegistrationYear</th>\n",
       "      <th>VehicleIntroDate</th>\n",
       "      <th>Partialemptycol</th>\n",
       "      <th>Stringcol</th>\n",
       "      <th>CapitalOutstanding</th>\n",
       "      <th>Mmcode</th>\n",
       "      <th>Cubiccapacity</th>\n",
       "      <th>Kilowatts</th>\n",
       "      <th>NumberOfDoors</th>\n",
       "      <th>Cylinders</th>\n",
       "      <th>SumInsured</th>\n",
       "      <th>CalculatedPremiumPerTerm</th>\n",
       "      <th>TotalPremium</th>\n",
       "      <th>TotalClaims</th>\n",
       "    </tr>\n",
       "  </thead>\n",
       "  <tbody>\n",
       "    <tr>\n",
       "      <th>0</th>\n",
       "      <td>1</td>\n",
       "      <td>A</td>\n",
       "      <td>2023-01-01</td>\n",
       "      <td>2020-01-01</td>\n",
       "      <td>2019-01-01</td>\n",
       "      <td>1.0</td>\n",
       "      <td>cat</td>\n",
       "      <td>1.2</td>\n",
       "      <td>101</td>\n",
       "      <td>1000</td>\n",
       "      <td>50</td>\n",
       "      <td>2</td>\n",
       "      <td>4</td>\n",
       "      <td>10000</td>\n",
       "      <td>100</td>\n",
       "      <td>500</td>\n",
       "      <td>10</td>\n",
       "    </tr>\n",
       "    <tr>\n",
       "      <th>1</th>\n",
       "      <td>2</td>\n",
       "      <td>B</td>\n",
       "      <td>2023-03-01</td>\n",
       "      <td>2021-01-01</td>\n",
       "      <td>2020-01-01</td>\n",
       "      <td>2.0</td>\n",
       "      <td>dog</td>\n",
       "      <td>3.4</td>\n",
       "      <td>102</td>\n",
       "      <td>1500</td>\n",
       "      <td>75</td>\n",
       "      <td>4</td>\n",
       "      <td>4</td>\n",
       "      <td>20000</td>\n",
       "      <td>200</td>\n",
       "      <td>1000</td>\n",
       "      <td>20</td>\n",
       "    </tr>\n",
       "    <tr>\n",
       "      <th>2</th>\n",
       "      <td>4</td>\n",
       "      <td>D</td>\n",
       "      <td>2023-04-01</td>\n",
       "      <td>2023-01-01</td>\n",
       "      <td>2022-01-01</td>\n",
       "      <td>4.0</td>\n",
       "      <td>dog</td>\n",
       "      <td>7.8</td>\n",
       "      <td>104</td>\n",
       "      <td>2500</td>\n",
       "      <td>125</td>\n",
       "      <td>2</td>\n",
       "      <td>4</td>\n",
       "      <td>40000</td>\n",
       "      <td>400</td>\n",
       "      <td>2000</td>\n",
       "      <td>40</td>\n",
       "    </tr>\n",
       "  </tbody>\n",
       "</table>\n",
       "</div>"
      ],
      "text/plain": [
       "   Col1 Col2 TransactionMonth RegistrationYear VehicleIntroDate  \\\n",
       "0     1    A       2023-01-01       2020-01-01       2019-01-01   \n",
       "1     2    B       2023-03-01       2021-01-01       2020-01-01   \n",
       "2     4    D       2023-04-01       2023-01-01       2022-01-01   \n",
       "\n",
       "   Partialemptycol Stringcol  CapitalOutstanding  Mmcode  Cubiccapacity  \\\n",
       "0              1.0       cat                 1.2     101           1000   \n",
       "1              2.0       dog                 3.4     102           1500   \n",
       "2              4.0       dog                 7.8     104           2500   \n",
       "\n",
       "   Kilowatts  NumberOfDoors  Cylinders  SumInsured  CalculatedPremiumPerTerm  \\\n",
       "0         50              2          4       10000                       100   \n",
       "1         75              4          4       20000                       200   \n",
       "2        125              2          4       40000                       400   \n",
       "\n",
       "   TotalPremium  TotalClaims  \n",
       "0           500           10  \n",
       "1          1000           20  \n",
       "2          2000           40  "
      ]
     },
     "metadata": {},
     "output_type": "display_data"
    },
    {
     "name": "stdout",
     "output_type": "stream",
     "text": [
      "\n",
      "DataFrame Info:\n",
      "<class 'pandas.core.frame.DataFrame'>\n",
      "RangeIndex: 3 entries, 0 to 2\n",
      "Data columns (total 17 columns):\n",
      " #   Column                    Non-Null Count  Dtype         \n",
      "---  ------                    --------------  -----         \n",
      " 0   Col1                      3 non-null      int64         \n",
      " 1   Col2                      3 non-null      object        \n",
      " 2   TransactionMonth          3 non-null      datetime64[ns]\n",
      " 3   RegistrationYear          3 non-null      datetime64[ns]\n",
      " 4   VehicleIntroDate          3 non-null      datetime64[ns]\n",
      " 5   Partialemptycol           3 non-null      float64       \n",
      " 6   Stringcol                 3 non-null      object        \n",
      " 7   CapitalOutstanding        3 non-null      float64       \n",
      " 8   Mmcode                    3 non-null      int64         \n",
      " 9   Cubiccapacity             3 non-null      int64         \n",
      " 10  Kilowatts                 3 non-null      int64         \n",
      " 11  NumberOfDoors             3 non-null      int64         \n",
      " 12  Cylinders                 3 non-null      int64         \n",
      " 13  SumInsured                3 non-null      int64         \n",
      " 14  CalculatedPremiumPerTerm  3 non-null      int64         \n",
      " 15  TotalPremium              3 non-null      int64         \n",
      " 16  TotalClaims               3 non-null      int64         \n",
      "dtypes: datetime64[ns](3), float64(2), int64(10), object(2)\n",
      "memory usage: 540.0+ bytes\n",
      "\n",
      "DataFrame Shape:\n"
     ]
    },
    {
     "data": {
      "text/plain": [
       "(3, 17)"
      ]
     },
     "metadata": {},
     "output_type": "display_data"
    },
    {
     "name": "stdout",
     "output_type": "stream",
     "text": [
      "\n",
      "DataFrame Description:\n"
     ]
    },
    {
     "data": {
      "application/vnd.microsoft.datawrangler.viewer.v0+json": {
       "columns": [
        {
         "name": "index",
         "rawType": "object",
         "type": "string"
        },
        {
         "name": "SumInsured",
         "rawType": "float64",
         "type": "float"
        },
        {
         "name": "CalculatedPremiumPerTerm",
         "rawType": "float64",
         "type": "float"
        },
        {
         "name": "TotalPremium",
         "rawType": "float64",
         "type": "float"
        },
        {
         "name": "TotalClaims",
         "rawType": "float64",
         "type": "float"
        }
       ],
       "ref": "7ecd5a18-8ad8-4291-b6ad-25b3c9975d8f",
       "rows": [
        [
         "count",
         "3.0",
         "3.0",
         "3.0",
         "3.0"
        ],
        [
         "mean",
         "23333.333333333332",
         "233.33333333333334",
         "1166.6666666666667",
         "23.333333333333332"
        ],
        [
         "std",
         "15275.252316519465",
         "152.75252316519467",
         "763.7626158259733",
         "15.275252316519467"
        ],
        [
         "min",
         "10000.0",
         "100.0",
         "500.0",
         "10.0"
        ],
        [
         "25%",
         "15000.0",
         "150.0",
         "750.0",
         "15.0"
        ],
        [
         "50%",
         "20000.0",
         "200.0",
         "1000.0",
         "20.0"
        ],
        [
         "75%",
         "30000.0",
         "300.0",
         "1500.0",
         "30.0"
        ],
        [
         "max",
         "40000.0",
         "400.0",
         "2000.0",
         "40.0"
        ]
       ],
       "shape": {
        "columns": 4,
        "rows": 8
       }
      },
      "text/html": [
       "<div>\n",
       "<style scoped>\n",
       "    .dataframe tbody tr th:only-of-type {\n",
       "        vertical-align: middle;\n",
       "    }\n",
       "\n",
       "    .dataframe tbody tr th {\n",
       "        vertical-align: top;\n",
       "    }\n",
       "\n",
       "    .dataframe thead th {\n",
       "        text-align: right;\n",
       "    }\n",
       "</style>\n",
       "<table border=\"1\" class=\"dataframe\">\n",
       "  <thead>\n",
       "    <tr style=\"text-align: right;\">\n",
       "      <th></th>\n",
       "      <th>SumInsured</th>\n",
       "      <th>CalculatedPremiumPerTerm</th>\n",
       "      <th>TotalPremium</th>\n",
       "      <th>TotalClaims</th>\n",
       "    </tr>\n",
       "  </thead>\n",
       "  <tbody>\n",
       "    <tr>\n",
       "      <th>count</th>\n",
       "      <td>3.000000</td>\n",
       "      <td>3.000000</td>\n",
       "      <td>3.000000</td>\n",
       "      <td>3.000000</td>\n",
       "    </tr>\n",
       "    <tr>\n",
       "      <th>mean</th>\n",
       "      <td>23333.333333</td>\n",
       "      <td>233.333333</td>\n",
       "      <td>1166.666667</td>\n",
       "      <td>23.333333</td>\n",
       "    </tr>\n",
       "    <tr>\n",
       "      <th>std</th>\n",
       "      <td>15275.252317</td>\n",
       "      <td>152.752523</td>\n",
       "      <td>763.762616</td>\n",
       "      <td>15.275252</td>\n",
       "    </tr>\n",
       "    <tr>\n",
       "      <th>min</th>\n",
       "      <td>10000.000000</td>\n",
       "      <td>100.000000</td>\n",
       "      <td>500.000000</td>\n",
       "      <td>10.000000</td>\n",
       "    </tr>\n",
       "    <tr>\n",
       "      <th>25%</th>\n",
       "      <td>15000.000000</td>\n",
       "      <td>150.000000</td>\n",
       "      <td>750.000000</td>\n",
       "      <td>15.000000</td>\n",
       "    </tr>\n",
       "    <tr>\n",
       "      <th>50%</th>\n",
       "      <td>20000.000000</td>\n",
       "      <td>200.000000</td>\n",
       "      <td>1000.000000</td>\n",
       "      <td>20.000000</td>\n",
       "    </tr>\n",
       "    <tr>\n",
       "      <th>75%</th>\n",
       "      <td>30000.000000</td>\n",
       "      <td>300.000000</td>\n",
       "      <td>1500.000000</td>\n",
       "      <td>30.000000</td>\n",
       "    </tr>\n",
       "    <tr>\n",
       "      <th>max</th>\n",
       "      <td>40000.000000</td>\n",
       "      <td>400.000000</td>\n",
       "      <td>2000.000000</td>\n",
       "      <td>40.000000</td>\n",
       "    </tr>\n",
       "  </tbody>\n",
       "</table>\n",
       "</div>"
      ],
      "text/plain": [
       "         SumInsured  CalculatedPremiumPerTerm  TotalPremium  TotalClaims\n",
       "count      3.000000                  3.000000      3.000000     3.000000\n",
       "mean   23333.333333                233.333333   1166.666667    23.333333\n",
       "std    15275.252317                152.752523    763.762616    15.275252\n",
       "min    10000.000000                100.000000    500.000000    10.000000\n",
       "25%    15000.000000                150.000000    750.000000    15.000000\n",
       "50%    20000.000000                200.000000   1000.000000    20.000000\n",
       "75%    30000.000000                300.000000   1500.000000    30.000000\n",
       "max    40000.000000                400.000000   2000.000000    40.000000"
      ]
     },
     "metadata": {},
     "output_type": "display_data"
    },
    {
     "name": "stderr",
     "output_type": "stream",
     "text": [
      "ok\n",
      "test_load_df_replaces_empty_with_nan (__main__.TestDataLoading.test_load_df_replaces_empty_with_nan) ... ok\n",
      "test_load_df_saves_processed_file (__main__.TestDataLoading.test_load_df_saves_processed_file) ... "
     ]
    },
    {
     "name": "stdout",
     "output_type": "stream",
     "text": [
      "File read successfully!\n",
      "\n",
      "Coloumns are capitalised.\n",
      "\n",
      "Empty indexes are filled with \"NAN\" values.\n",
      "\n",
      "Coloumns ['EmptyCol'] are dropped.\n",
      "\n",
      "Indexes with empty values are dropped.\n",
      "\n",
      "DataFrame is sorted by TransactionMonth column.\n",
      "\n",
      "DataFrame is preprocessed.\n",
      "\n",
      "Prrocessed DataFrame Saved to: test_output\\processed_insurance_data.csv\n",
      "\n",
      "DataFrame Head:\n"
     ]
    },
    {
     "data": {
      "application/vnd.microsoft.datawrangler.viewer.v0+json": {
       "columns": [
        {
         "name": "index",
         "rawType": "int64",
         "type": "integer"
        },
        {
         "name": "Col1",
         "rawType": "int64",
         "type": "integer"
        },
        {
         "name": "Col2",
         "rawType": "object",
         "type": "string"
        },
        {
         "name": "TransactionMonth",
         "rawType": "datetime64[ns]",
         "type": "datetime"
        },
        {
         "name": "RegistrationYear",
         "rawType": "datetime64[ns]",
         "type": "datetime"
        },
        {
         "name": "VehicleIntroDate",
         "rawType": "datetime64[ns]",
         "type": "datetime"
        },
        {
         "name": "Partialemptycol",
         "rawType": "float64",
         "type": "float"
        },
        {
         "name": "Stringcol",
         "rawType": "object",
         "type": "string"
        },
        {
         "name": "CapitalOutstanding",
         "rawType": "float64",
         "type": "float"
        },
        {
         "name": "Mmcode",
         "rawType": "int64",
         "type": "integer"
        },
        {
         "name": "Cubiccapacity",
         "rawType": "int64",
         "type": "integer"
        },
        {
         "name": "Kilowatts",
         "rawType": "int64",
         "type": "integer"
        },
        {
         "name": "NumberOfDoors",
         "rawType": "int64",
         "type": "integer"
        },
        {
         "name": "Cylinders",
         "rawType": "int64",
         "type": "integer"
        },
        {
         "name": "SumInsured",
         "rawType": "int64",
         "type": "integer"
        },
        {
         "name": "CalculatedPremiumPerTerm",
         "rawType": "int64",
         "type": "integer"
        },
        {
         "name": "TotalPremium",
         "rawType": "int64",
         "type": "integer"
        },
        {
         "name": "TotalClaims",
         "rawType": "int64",
         "type": "integer"
        }
       ],
       "ref": "6327209f-2ca9-4b60-9e41-d25f1c3ec43e",
       "rows": [
        [
         "0",
         "1",
         "A",
         "2023-01-01 00:00:00",
         "2020-01-01 00:00:00",
         "2019-01-01 00:00:00",
         "1.0",
         "cat",
         "1.2",
         "101",
         "1000",
         "50",
         "2",
         "4",
         "10000",
         "100",
         "500",
         "10"
        ],
        [
         "1",
         "2",
         "B",
         "2023-03-01 00:00:00",
         "2021-01-01 00:00:00",
         "2020-01-01 00:00:00",
         "2.0",
         "dog",
         "3.4",
         "102",
         "1500",
         "75",
         "4",
         "4",
         "20000",
         "200",
         "1000",
         "20"
        ],
        [
         "2",
         "4",
         "D",
         "2023-04-01 00:00:00",
         "2023-01-01 00:00:00",
         "2022-01-01 00:00:00",
         "4.0",
         "dog",
         "7.8",
         "104",
         "2500",
         "125",
         "2",
         "4",
         "40000",
         "400",
         "2000",
         "40"
        ]
       ],
       "shape": {
        "columns": 17,
        "rows": 3
       }
      },
      "text/html": [
       "<div>\n",
       "<style scoped>\n",
       "    .dataframe tbody tr th:only-of-type {\n",
       "        vertical-align: middle;\n",
       "    }\n",
       "\n",
       "    .dataframe tbody tr th {\n",
       "        vertical-align: top;\n",
       "    }\n",
       "\n",
       "    .dataframe thead th {\n",
       "        text-align: right;\n",
       "    }\n",
       "</style>\n",
       "<table border=\"1\" class=\"dataframe\">\n",
       "  <thead>\n",
       "    <tr style=\"text-align: right;\">\n",
       "      <th></th>\n",
       "      <th>Col1</th>\n",
       "      <th>Col2</th>\n",
       "      <th>TransactionMonth</th>\n",
       "      <th>RegistrationYear</th>\n",
       "      <th>VehicleIntroDate</th>\n",
       "      <th>Partialemptycol</th>\n",
       "      <th>Stringcol</th>\n",
       "      <th>CapitalOutstanding</th>\n",
       "      <th>Mmcode</th>\n",
       "      <th>Cubiccapacity</th>\n",
       "      <th>Kilowatts</th>\n",
       "      <th>NumberOfDoors</th>\n",
       "      <th>Cylinders</th>\n",
       "      <th>SumInsured</th>\n",
       "      <th>CalculatedPremiumPerTerm</th>\n",
       "      <th>TotalPremium</th>\n",
       "      <th>TotalClaims</th>\n",
       "    </tr>\n",
       "  </thead>\n",
       "  <tbody>\n",
       "    <tr>\n",
       "      <th>0</th>\n",
       "      <td>1</td>\n",
       "      <td>A</td>\n",
       "      <td>2023-01-01</td>\n",
       "      <td>2020-01-01</td>\n",
       "      <td>2019-01-01</td>\n",
       "      <td>1.0</td>\n",
       "      <td>cat</td>\n",
       "      <td>1.2</td>\n",
       "      <td>101</td>\n",
       "      <td>1000</td>\n",
       "      <td>50</td>\n",
       "      <td>2</td>\n",
       "      <td>4</td>\n",
       "      <td>10000</td>\n",
       "      <td>100</td>\n",
       "      <td>500</td>\n",
       "      <td>10</td>\n",
       "    </tr>\n",
       "    <tr>\n",
       "      <th>1</th>\n",
       "      <td>2</td>\n",
       "      <td>B</td>\n",
       "      <td>2023-03-01</td>\n",
       "      <td>2021-01-01</td>\n",
       "      <td>2020-01-01</td>\n",
       "      <td>2.0</td>\n",
       "      <td>dog</td>\n",
       "      <td>3.4</td>\n",
       "      <td>102</td>\n",
       "      <td>1500</td>\n",
       "      <td>75</td>\n",
       "      <td>4</td>\n",
       "      <td>4</td>\n",
       "      <td>20000</td>\n",
       "      <td>200</td>\n",
       "      <td>1000</td>\n",
       "      <td>20</td>\n",
       "    </tr>\n",
       "    <tr>\n",
       "      <th>2</th>\n",
       "      <td>4</td>\n",
       "      <td>D</td>\n",
       "      <td>2023-04-01</td>\n",
       "      <td>2023-01-01</td>\n",
       "      <td>2022-01-01</td>\n",
       "      <td>4.0</td>\n",
       "      <td>dog</td>\n",
       "      <td>7.8</td>\n",
       "      <td>104</td>\n",
       "      <td>2500</td>\n",
       "      <td>125</td>\n",
       "      <td>2</td>\n",
       "      <td>4</td>\n",
       "      <td>40000</td>\n",
       "      <td>400</td>\n",
       "      <td>2000</td>\n",
       "      <td>40</td>\n",
       "    </tr>\n",
       "  </tbody>\n",
       "</table>\n",
       "</div>"
      ],
      "text/plain": [
       "   Col1 Col2 TransactionMonth RegistrationYear VehicleIntroDate  \\\n",
       "0     1    A       2023-01-01       2020-01-01       2019-01-01   \n",
       "1     2    B       2023-03-01       2021-01-01       2020-01-01   \n",
       "2     4    D       2023-04-01       2023-01-01       2022-01-01   \n",
       "\n",
       "   Partialemptycol Stringcol  CapitalOutstanding  Mmcode  Cubiccapacity  \\\n",
       "0              1.0       cat                 1.2     101           1000   \n",
       "1              2.0       dog                 3.4     102           1500   \n",
       "2              4.0       dog                 7.8     104           2500   \n",
       "\n",
       "   Kilowatts  NumberOfDoors  Cylinders  SumInsured  CalculatedPremiumPerTerm  \\\n",
       "0         50              2          4       10000                       100   \n",
       "1         75              4          4       20000                       200   \n",
       "2        125              2          4       40000                       400   \n",
       "\n",
       "   TotalPremium  TotalClaims  \n",
       "0           500           10  \n",
       "1          1000           20  \n",
       "2          2000           40  "
      ]
     },
     "metadata": {},
     "output_type": "display_data"
    },
    {
     "name": "stdout",
     "output_type": "stream",
     "text": [
      "\n",
      "DataFrame Info:\n",
      "<class 'pandas.core.frame.DataFrame'>\n",
      "RangeIndex: 3 entries, 0 to 2\n",
      "Data columns (total 17 columns):\n",
      " #   Column                    Non-Null Count  Dtype         \n",
      "---  ------                    --------------  -----         \n",
      " 0   Col1                      3 non-null      int64         \n",
      " 1   Col2                      3 non-null      object        \n",
      " 2   TransactionMonth          3 non-null      datetime64[ns]\n",
      " 3   RegistrationYear          3 non-null      datetime64[ns]\n",
      " 4   VehicleIntroDate          3 non-null      datetime64[ns]\n",
      " 5   Partialemptycol           3 non-null      float64       \n",
      " 6   Stringcol                 3 non-null      object        \n",
      " 7   CapitalOutstanding        3 non-null      float64       \n",
      " 8   Mmcode                    3 non-null      int64         \n",
      " 9   Cubiccapacity             3 non-null      int64         \n",
      " 10  Kilowatts                 3 non-null      int64         \n",
      " 11  NumberOfDoors             3 non-null      int64         \n",
      " 12  Cylinders                 3 non-null      int64         \n",
      " 13  SumInsured                3 non-null      int64         \n",
      " 14  CalculatedPremiumPerTerm  3 non-null      int64         \n",
      " 15  TotalPremium              3 non-null      int64         \n",
      " 16  TotalClaims               3 non-null      int64         \n",
      "dtypes: datetime64[ns](3), float64(2), int64(10), object(2)\n",
      "memory usage: 540.0+ bytes\n",
      "\n",
      "DataFrame Shape:\n"
     ]
    },
    {
     "data": {
      "text/plain": [
       "(3, 17)"
      ]
     },
     "metadata": {},
     "output_type": "display_data"
    },
    {
     "name": "stdout",
     "output_type": "stream",
     "text": [
      "\n",
      "DataFrame Description:\n"
     ]
    },
    {
     "data": {
      "application/vnd.microsoft.datawrangler.viewer.v0+json": {
       "columns": [
        {
         "name": "index",
         "rawType": "object",
         "type": "string"
        },
        {
         "name": "SumInsured",
         "rawType": "float64",
         "type": "float"
        },
        {
         "name": "CalculatedPremiumPerTerm",
         "rawType": "float64",
         "type": "float"
        },
        {
         "name": "TotalPremium",
         "rawType": "float64",
         "type": "float"
        },
        {
         "name": "TotalClaims",
         "rawType": "float64",
         "type": "float"
        }
       ],
       "ref": "f676d6b0-1ddf-4743-8baa-5bf20a62f1af",
       "rows": [
        [
         "count",
         "3.0",
         "3.0",
         "3.0",
         "3.0"
        ],
        [
         "mean",
         "23333.333333333332",
         "233.33333333333334",
         "1166.6666666666667",
         "23.333333333333332"
        ],
        [
         "std",
         "15275.252316519465",
         "152.75252316519467",
         "763.7626158259733",
         "15.275252316519467"
        ],
        [
         "min",
         "10000.0",
         "100.0",
         "500.0",
         "10.0"
        ],
        [
         "25%",
         "15000.0",
         "150.0",
         "750.0",
         "15.0"
        ],
        [
         "50%",
         "20000.0",
         "200.0",
         "1000.0",
         "20.0"
        ],
        [
         "75%",
         "30000.0",
         "300.0",
         "1500.0",
         "30.0"
        ],
        [
         "max",
         "40000.0",
         "400.0",
         "2000.0",
         "40.0"
        ]
       ],
       "shape": {
        "columns": 4,
        "rows": 8
       }
      },
      "text/html": [
       "<div>\n",
       "<style scoped>\n",
       "    .dataframe tbody tr th:only-of-type {\n",
       "        vertical-align: middle;\n",
       "    }\n",
       "\n",
       "    .dataframe tbody tr th {\n",
       "        vertical-align: top;\n",
       "    }\n",
       "\n",
       "    .dataframe thead th {\n",
       "        text-align: right;\n",
       "    }\n",
       "</style>\n",
       "<table border=\"1\" class=\"dataframe\">\n",
       "  <thead>\n",
       "    <tr style=\"text-align: right;\">\n",
       "      <th></th>\n",
       "      <th>SumInsured</th>\n",
       "      <th>CalculatedPremiumPerTerm</th>\n",
       "      <th>TotalPremium</th>\n",
       "      <th>TotalClaims</th>\n",
       "    </tr>\n",
       "  </thead>\n",
       "  <tbody>\n",
       "    <tr>\n",
       "      <th>count</th>\n",
       "      <td>3.000000</td>\n",
       "      <td>3.000000</td>\n",
       "      <td>3.000000</td>\n",
       "      <td>3.000000</td>\n",
       "    </tr>\n",
       "    <tr>\n",
       "      <th>mean</th>\n",
       "      <td>23333.333333</td>\n",
       "      <td>233.333333</td>\n",
       "      <td>1166.666667</td>\n",
       "      <td>23.333333</td>\n",
       "    </tr>\n",
       "    <tr>\n",
       "      <th>std</th>\n",
       "      <td>15275.252317</td>\n",
       "      <td>152.752523</td>\n",
       "      <td>763.762616</td>\n",
       "      <td>15.275252</td>\n",
       "    </tr>\n",
       "    <tr>\n",
       "      <th>min</th>\n",
       "      <td>10000.000000</td>\n",
       "      <td>100.000000</td>\n",
       "      <td>500.000000</td>\n",
       "      <td>10.000000</td>\n",
       "    </tr>\n",
       "    <tr>\n",
       "      <th>25%</th>\n",
       "      <td>15000.000000</td>\n",
       "      <td>150.000000</td>\n",
       "      <td>750.000000</td>\n",
       "      <td>15.000000</td>\n",
       "    </tr>\n",
       "    <tr>\n",
       "      <th>50%</th>\n",
       "      <td>20000.000000</td>\n",
       "      <td>200.000000</td>\n",
       "      <td>1000.000000</td>\n",
       "      <td>20.000000</td>\n",
       "    </tr>\n",
       "    <tr>\n",
       "      <th>75%</th>\n",
       "      <td>30000.000000</td>\n",
       "      <td>300.000000</td>\n",
       "      <td>1500.000000</td>\n",
       "      <td>30.000000</td>\n",
       "    </tr>\n",
       "    <tr>\n",
       "      <th>max</th>\n",
       "      <td>40000.000000</td>\n",
       "      <td>400.000000</td>\n",
       "      <td>2000.000000</td>\n",
       "      <td>40.000000</td>\n",
       "    </tr>\n",
       "  </tbody>\n",
       "</table>\n",
       "</div>"
      ],
      "text/plain": [
       "         SumInsured  CalculatedPremiumPerTerm  TotalPremium  TotalClaims\n",
       "count      3.000000                  3.000000      3.000000     3.000000\n",
       "mean   23333.333333                233.333333   1166.666667    23.333333\n",
       "std    15275.252317                152.752523    763.762616    15.275252\n",
       "min    10000.000000                100.000000    500.000000    10.000000\n",
       "25%    15000.000000                150.000000    750.000000    15.000000\n",
       "50%    20000.000000                200.000000   1000.000000    20.000000\n",
       "75%    30000.000000                300.000000   1500.000000    30.000000\n",
       "max    40000.000000                400.000000   2000.000000    40.000000"
      ]
     },
     "metadata": {},
     "output_type": "display_data"
    },
    {
     "name": "stderr",
     "output_type": "stream",
     "text": [
      "ok\n",
      "test_load_df_sorts_by_transactionmonth (__main__.TestDataLoading.test_load_df_sorts_by_transactionmonth) ... "
     ]
    },
    {
     "name": "stdout",
     "output_type": "stream",
     "text": [
      "File read successfully!\n",
      "\n",
      "Coloumns are capitalised.\n",
      "\n",
      "Empty indexes are filled with \"NAN\" values.\n",
      "\n",
      "Coloumns ['EmptyCol'] are dropped.\n",
      "\n",
      "Indexes with empty values are dropped.\n",
      "\n",
      "DataFrame is sorted by TransactionMonth column.\n",
      "\n",
      "DataFrame is preprocessed.\n",
      "\n",
      "Prrocessed DataFrame Saved to: test_output\\processed_insurance_data.csv\n",
      "\n",
      "DataFrame Head:\n"
     ]
    },
    {
     "data": {
      "application/vnd.microsoft.datawrangler.viewer.v0+json": {
       "columns": [
        {
         "name": "index",
         "rawType": "int64",
         "type": "integer"
        },
        {
         "name": "Col1",
         "rawType": "int64",
         "type": "integer"
        },
        {
         "name": "Col2",
         "rawType": "object",
         "type": "string"
        },
        {
         "name": "TransactionMonth",
         "rawType": "datetime64[ns]",
         "type": "datetime"
        },
        {
         "name": "RegistrationYear",
         "rawType": "datetime64[ns]",
         "type": "datetime"
        },
        {
         "name": "VehicleIntroDate",
         "rawType": "datetime64[ns]",
         "type": "datetime"
        },
        {
         "name": "Partialemptycol",
         "rawType": "float64",
         "type": "float"
        },
        {
         "name": "Stringcol",
         "rawType": "object",
         "type": "string"
        },
        {
         "name": "CapitalOutstanding",
         "rawType": "float64",
         "type": "float"
        },
        {
         "name": "Mmcode",
         "rawType": "int64",
         "type": "integer"
        },
        {
         "name": "Cubiccapacity",
         "rawType": "int64",
         "type": "integer"
        },
        {
         "name": "Kilowatts",
         "rawType": "int64",
         "type": "integer"
        },
        {
         "name": "NumberOfDoors",
         "rawType": "int64",
         "type": "integer"
        },
        {
         "name": "Cylinders",
         "rawType": "int64",
         "type": "integer"
        },
        {
         "name": "SumInsured",
         "rawType": "int64",
         "type": "integer"
        },
        {
         "name": "CalculatedPremiumPerTerm",
         "rawType": "int64",
         "type": "integer"
        },
        {
         "name": "TotalPremium",
         "rawType": "int64",
         "type": "integer"
        },
        {
         "name": "TotalClaims",
         "rawType": "int64",
         "type": "integer"
        }
       ],
       "ref": "8eefdac9-923f-482c-82f4-9900c70120ae",
       "rows": [
        [
         "0",
         "1",
         "A",
         "2023-01-01 00:00:00",
         "2020-01-01 00:00:00",
         "2019-01-01 00:00:00",
         "1.0",
         "cat",
         "1.2",
         "101",
         "1000",
         "50",
         "2",
         "4",
         "10000",
         "100",
         "500",
         "10"
        ],
        [
         "1",
         "2",
         "B",
         "2023-03-01 00:00:00",
         "2021-01-01 00:00:00",
         "2020-01-01 00:00:00",
         "2.0",
         "dog",
         "3.4",
         "102",
         "1500",
         "75",
         "4",
         "4",
         "20000",
         "200",
         "1000",
         "20"
        ],
        [
         "2",
         "4",
         "D",
         "2023-04-01 00:00:00",
         "2023-01-01 00:00:00",
         "2022-01-01 00:00:00",
         "4.0",
         "dog",
         "7.8",
         "104",
         "2500",
         "125",
         "2",
         "4",
         "40000",
         "400",
         "2000",
         "40"
        ]
       ],
       "shape": {
        "columns": 17,
        "rows": 3
       }
      },
      "text/html": [
       "<div>\n",
       "<style scoped>\n",
       "    .dataframe tbody tr th:only-of-type {\n",
       "        vertical-align: middle;\n",
       "    }\n",
       "\n",
       "    .dataframe tbody tr th {\n",
       "        vertical-align: top;\n",
       "    }\n",
       "\n",
       "    .dataframe thead th {\n",
       "        text-align: right;\n",
       "    }\n",
       "</style>\n",
       "<table border=\"1\" class=\"dataframe\">\n",
       "  <thead>\n",
       "    <tr style=\"text-align: right;\">\n",
       "      <th></th>\n",
       "      <th>Col1</th>\n",
       "      <th>Col2</th>\n",
       "      <th>TransactionMonth</th>\n",
       "      <th>RegistrationYear</th>\n",
       "      <th>VehicleIntroDate</th>\n",
       "      <th>Partialemptycol</th>\n",
       "      <th>Stringcol</th>\n",
       "      <th>CapitalOutstanding</th>\n",
       "      <th>Mmcode</th>\n",
       "      <th>Cubiccapacity</th>\n",
       "      <th>Kilowatts</th>\n",
       "      <th>NumberOfDoors</th>\n",
       "      <th>Cylinders</th>\n",
       "      <th>SumInsured</th>\n",
       "      <th>CalculatedPremiumPerTerm</th>\n",
       "      <th>TotalPremium</th>\n",
       "      <th>TotalClaims</th>\n",
       "    </tr>\n",
       "  </thead>\n",
       "  <tbody>\n",
       "    <tr>\n",
       "      <th>0</th>\n",
       "      <td>1</td>\n",
       "      <td>A</td>\n",
       "      <td>2023-01-01</td>\n",
       "      <td>2020-01-01</td>\n",
       "      <td>2019-01-01</td>\n",
       "      <td>1.0</td>\n",
       "      <td>cat</td>\n",
       "      <td>1.2</td>\n",
       "      <td>101</td>\n",
       "      <td>1000</td>\n",
       "      <td>50</td>\n",
       "      <td>2</td>\n",
       "      <td>4</td>\n",
       "      <td>10000</td>\n",
       "      <td>100</td>\n",
       "      <td>500</td>\n",
       "      <td>10</td>\n",
       "    </tr>\n",
       "    <tr>\n",
       "      <th>1</th>\n",
       "      <td>2</td>\n",
       "      <td>B</td>\n",
       "      <td>2023-03-01</td>\n",
       "      <td>2021-01-01</td>\n",
       "      <td>2020-01-01</td>\n",
       "      <td>2.0</td>\n",
       "      <td>dog</td>\n",
       "      <td>3.4</td>\n",
       "      <td>102</td>\n",
       "      <td>1500</td>\n",
       "      <td>75</td>\n",
       "      <td>4</td>\n",
       "      <td>4</td>\n",
       "      <td>20000</td>\n",
       "      <td>200</td>\n",
       "      <td>1000</td>\n",
       "      <td>20</td>\n",
       "    </tr>\n",
       "    <tr>\n",
       "      <th>2</th>\n",
       "      <td>4</td>\n",
       "      <td>D</td>\n",
       "      <td>2023-04-01</td>\n",
       "      <td>2023-01-01</td>\n",
       "      <td>2022-01-01</td>\n",
       "      <td>4.0</td>\n",
       "      <td>dog</td>\n",
       "      <td>7.8</td>\n",
       "      <td>104</td>\n",
       "      <td>2500</td>\n",
       "      <td>125</td>\n",
       "      <td>2</td>\n",
       "      <td>4</td>\n",
       "      <td>40000</td>\n",
       "      <td>400</td>\n",
       "      <td>2000</td>\n",
       "      <td>40</td>\n",
       "    </tr>\n",
       "  </tbody>\n",
       "</table>\n",
       "</div>"
      ],
      "text/plain": [
       "   Col1 Col2 TransactionMonth RegistrationYear VehicleIntroDate  \\\n",
       "0     1    A       2023-01-01       2020-01-01       2019-01-01   \n",
       "1     2    B       2023-03-01       2021-01-01       2020-01-01   \n",
       "2     4    D       2023-04-01       2023-01-01       2022-01-01   \n",
       "\n",
       "   Partialemptycol Stringcol  CapitalOutstanding  Mmcode  Cubiccapacity  \\\n",
       "0              1.0       cat                 1.2     101           1000   \n",
       "1              2.0       dog                 3.4     102           1500   \n",
       "2              4.0       dog                 7.8     104           2500   \n",
       "\n",
       "   Kilowatts  NumberOfDoors  Cylinders  SumInsured  CalculatedPremiumPerTerm  \\\n",
       "0         50              2          4       10000                       100   \n",
       "1         75              4          4       20000                       200   \n",
       "2        125              2          4       40000                       400   \n",
       "\n",
       "   TotalPremium  TotalClaims  \n",
       "0           500           10  \n",
       "1          1000           20  \n",
       "2          2000           40  "
      ]
     },
     "metadata": {},
     "output_type": "display_data"
    },
    {
     "name": "stdout",
     "output_type": "stream",
     "text": [
      "\n",
      "DataFrame Info:\n",
      "<class 'pandas.core.frame.DataFrame'>\n",
      "RangeIndex: 3 entries, 0 to 2\n",
      "Data columns (total 17 columns):\n",
      " #   Column                    Non-Null Count  Dtype         \n",
      "---  ------                    --------------  -----         \n",
      " 0   Col1                      3 non-null      int64         \n",
      " 1   Col2                      3 non-null      object        \n",
      " 2   TransactionMonth          3 non-null      datetime64[ns]\n",
      " 3   RegistrationYear          3 non-null      datetime64[ns]\n",
      " 4   VehicleIntroDate          3 non-null      datetime64[ns]\n",
      " 5   Partialemptycol           3 non-null      float64       \n",
      " 6   Stringcol                 3 non-null      object        \n",
      " 7   CapitalOutstanding        3 non-null      float64       \n",
      " 8   Mmcode                    3 non-null      int64         \n",
      " 9   Cubiccapacity             3 non-null      int64         \n",
      " 10  Kilowatts                 3 non-null      int64         \n",
      " 11  NumberOfDoors             3 non-null      int64         \n",
      " 12  Cylinders                 3 non-null      int64         \n",
      " 13  SumInsured                3 non-null      int64         \n",
      " 14  CalculatedPremiumPerTerm  3 non-null      int64         \n",
      " 15  TotalPremium              3 non-null      int64         \n",
      " 16  TotalClaims               3 non-null      int64         \n",
      "dtypes: datetime64[ns](3), float64(2), int64(10), object(2)\n",
      "memory usage: 540.0+ bytes\n",
      "\n",
      "DataFrame Shape:\n"
     ]
    },
    {
     "data": {
      "text/plain": [
       "(3, 17)"
      ]
     },
     "metadata": {},
     "output_type": "display_data"
    },
    {
     "name": "stdout",
     "output_type": "stream",
     "text": [
      "\n",
      "DataFrame Description:\n"
     ]
    },
    {
     "data": {
      "application/vnd.microsoft.datawrangler.viewer.v0+json": {
       "columns": [
        {
         "name": "index",
         "rawType": "object",
         "type": "string"
        },
        {
         "name": "SumInsured",
         "rawType": "float64",
         "type": "float"
        },
        {
         "name": "CalculatedPremiumPerTerm",
         "rawType": "float64",
         "type": "float"
        },
        {
         "name": "TotalPremium",
         "rawType": "float64",
         "type": "float"
        },
        {
         "name": "TotalClaims",
         "rawType": "float64",
         "type": "float"
        }
       ],
       "ref": "2576afae-736d-45b9-bf31-b9c9ba2e0581",
       "rows": [
        [
         "count",
         "3.0",
         "3.0",
         "3.0",
         "3.0"
        ],
        [
         "mean",
         "23333.333333333332",
         "233.33333333333334",
         "1166.6666666666667",
         "23.333333333333332"
        ],
        [
         "std",
         "15275.252316519465",
         "152.75252316519467",
         "763.7626158259733",
         "15.275252316519467"
        ],
        [
         "min",
         "10000.0",
         "100.0",
         "500.0",
         "10.0"
        ],
        [
         "25%",
         "15000.0",
         "150.0",
         "750.0",
         "15.0"
        ],
        [
         "50%",
         "20000.0",
         "200.0",
         "1000.0",
         "20.0"
        ],
        [
         "75%",
         "30000.0",
         "300.0",
         "1500.0",
         "30.0"
        ],
        [
         "max",
         "40000.0",
         "400.0",
         "2000.0",
         "40.0"
        ]
       ],
       "shape": {
        "columns": 4,
        "rows": 8
       }
      },
      "text/html": [
       "<div>\n",
       "<style scoped>\n",
       "    .dataframe tbody tr th:only-of-type {\n",
       "        vertical-align: middle;\n",
       "    }\n",
       "\n",
       "    .dataframe tbody tr th {\n",
       "        vertical-align: top;\n",
       "    }\n",
       "\n",
       "    .dataframe thead th {\n",
       "        text-align: right;\n",
       "    }\n",
       "</style>\n",
       "<table border=\"1\" class=\"dataframe\">\n",
       "  <thead>\n",
       "    <tr style=\"text-align: right;\">\n",
       "      <th></th>\n",
       "      <th>SumInsured</th>\n",
       "      <th>CalculatedPremiumPerTerm</th>\n",
       "      <th>TotalPremium</th>\n",
       "      <th>TotalClaims</th>\n",
       "    </tr>\n",
       "  </thead>\n",
       "  <tbody>\n",
       "    <tr>\n",
       "      <th>count</th>\n",
       "      <td>3.000000</td>\n",
       "      <td>3.000000</td>\n",
       "      <td>3.000000</td>\n",
       "      <td>3.000000</td>\n",
       "    </tr>\n",
       "    <tr>\n",
       "      <th>mean</th>\n",
       "      <td>23333.333333</td>\n",
       "      <td>233.333333</td>\n",
       "      <td>1166.666667</td>\n",
       "      <td>23.333333</td>\n",
       "    </tr>\n",
       "    <tr>\n",
       "      <th>std</th>\n",
       "      <td>15275.252317</td>\n",
       "      <td>152.752523</td>\n",
       "      <td>763.762616</td>\n",
       "      <td>15.275252</td>\n",
       "    </tr>\n",
       "    <tr>\n",
       "      <th>min</th>\n",
       "      <td>10000.000000</td>\n",
       "      <td>100.000000</td>\n",
       "      <td>500.000000</td>\n",
       "      <td>10.000000</td>\n",
       "    </tr>\n",
       "    <tr>\n",
       "      <th>25%</th>\n",
       "      <td>15000.000000</td>\n",
       "      <td>150.000000</td>\n",
       "      <td>750.000000</td>\n",
       "      <td>15.000000</td>\n",
       "    </tr>\n",
       "    <tr>\n",
       "      <th>50%</th>\n",
       "      <td>20000.000000</td>\n",
       "      <td>200.000000</td>\n",
       "      <td>1000.000000</td>\n",
       "      <td>20.000000</td>\n",
       "    </tr>\n",
       "    <tr>\n",
       "      <th>75%</th>\n",
       "      <td>30000.000000</td>\n",
       "      <td>300.000000</td>\n",
       "      <td>1500.000000</td>\n",
       "      <td>30.000000</td>\n",
       "    </tr>\n",
       "    <tr>\n",
       "      <th>max</th>\n",
       "      <td>40000.000000</td>\n",
       "      <td>400.000000</td>\n",
       "      <td>2000.000000</td>\n",
       "      <td>40.000000</td>\n",
       "    </tr>\n",
       "  </tbody>\n",
       "</table>\n",
       "</div>"
      ],
      "text/plain": [
       "         SumInsured  CalculatedPremiumPerTerm  TotalPremium  TotalClaims\n",
       "count      3.000000                  3.000000      3.000000     3.000000\n",
       "mean   23333.333333                233.333333   1166.666667    23.333333\n",
       "std    15275.252317                152.752523    763.762616    15.275252\n",
       "min    10000.000000                100.000000    500.000000    10.000000\n",
       "25%    15000.000000                150.000000    750.000000    15.000000\n",
       "50%    20000.000000                200.000000   1000.000000    20.000000\n",
       "75%    30000.000000                300.000000   1500.000000    30.000000\n",
       "max    40000.000000                400.000000   2000.000000    40.000000"
      ]
     },
     "metadata": {},
     "output_type": "display_data"
    },
    {
     "name": "stderr",
     "output_type": "stream",
     "text": [
      "ok\n",
      "test_load_df_successful (__main__.TestDataLoading.test_load_df_successful) ... "
     ]
    },
    {
     "name": "stdout",
     "output_type": "stream",
     "text": [
      "File read successfully!\n",
      "\n",
      "Coloumns are capitalised.\n",
      "\n",
      "Empty indexes are filled with \"NAN\" values.\n",
      "\n",
      "Coloumns ['EmptyCol'] are dropped.\n",
      "\n",
      "Indexes with empty values are dropped.\n",
      "\n",
      "DataFrame is sorted by TransactionMonth column.\n",
      "\n",
      "DataFrame is preprocessed.\n",
      "\n",
      "Prrocessed DataFrame Saved to: test_output\\processed_insurance_data.csv\n",
      "\n",
      "DataFrame Head:\n"
     ]
    },
    {
     "data": {
      "application/vnd.microsoft.datawrangler.viewer.v0+json": {
       "columns": [
        {
         "name": "index",
         "rawType": "int64",
         "type": "integer"
        },
        {
         "name": "Col1",
         "rawType": "int64",
         "type": "integer"
        },
        {
         "name": "Col2",
         "rawType": "object",
         "type": "string"
        },
        {
         "name": "TransactionMonth",
         "rawType": "datetime64[ns]",
         "type": "datetime"
        },
        {
         "name": "RegistrationYear",
         "rawType": "datetime64[ns]",
         "type": "datetime"
        },
        {
         "name": "VehicleIntroDate",
         "rawType": "datetime64[ns]",
         "type": "datetime"
        },
        {
         "name": "Partialemptycol",
         "rawType": "float64",
         "type": "float"
        },
        {
         "name": "Stringcol",
         "rawType": "object",
         "type": "string"
        },
        {
         "name": "CapitalOutstanding",
         "rawType": "float64",
         "type": "float"
        },
        {
         "name": "Mmcode",
         "rawType": "int64",
         "type": "integer"
        },
        {
         "name": "Cubiccapacity",
         "rawType": "int64",
         "type": "integer"
        },
        {
         "name": "Kilowatts",
         "rawType": "int64",
         "type": "integer"
        },
        {
         "name": "NumberOfDoors",
         "rawType": "int64",
         "type": "integer"
        },
        {
         "name": "Cylinders",
         "rawType": "int64",
         "type": "integer"
        },
        {
         "name": "SumInsured",
         "rawType": "int64",
         "type": "integer"
        },
        {
         "name": "CalculatedPremiumPerTerm",
         "rawType": "int64",
         "type": "integer"
        },
        {
         "name": "TotalPremium",
         "rawType": "int64",
         "type": "integer"
        },
        {
         "name": "TotalClaims",
         "rawType": "int64",
         "type": "integer"
        }
       ],
       "ref": "8f5ce847-855a-413c-aa57-51d69d5648fe",
       "rows": [
        [
         "0",
         "1",
         "A",
         "2023-01-01 00:00:00",
         "2020-01-01 00:00:00",
         "2019-01-01 00:00:00",
         "1.0",
         "cat",
         "1.2",
         "101",
         "1000",
         "50",
         "2",
         "4",
         "10000",
         "100",
         "500",
         "10"
        ],
        [
         "1",
         "2",
         "B",
         "2023-03-01 00:00:00",
         "2021-01-01 00:00:00",
         "2020-01-01 00:00:00",
         "2.0",
         "dog",
         "3.4",
         "102",
         "1500",
         "75",
         "4",
         "4",
         "20000",
         "200",
         "1000",
         "20"
        ],
        [
         "2",
         "4",
         "D",
         "2023-04-01 00:00:00",
         "2023-01-01 00:00:00",
         "2022-01-01 00:00:00",
         "4.0",
         "dog",
         "7.8",
         "104",
         "2500",
         "125",
         "2",
         "4",
         "40000",
         "400",
         "2000",
         "40"
        ]
       ],
       "shape": {
        "columns": 17,
        "rows": 3
       }
      },
      "text/html": [
       "<div>\n",
       "<style scoped>\n",
       "    .dataframe tbody tr th:only-of-type {\n",
       "        vertical-align: middle;\n",
       "    }\n",
       "\n",
       "    .dataframe tbody tr th {\n",
       "        vertical-align: top;\n",
       "    }\n",
       "\n",
       "    .dataframe thead th {\n",
       "        text-align: right;\n",
       "    }\n",
       "</style>\n",
       "<table border=\"1\" class=\"dataframe\">\n",
       "  <thead>\n",
       "    <tr style=\"text-align: right;\">\n",
       "      <th></th>\n",
       "      <th>Col1</th>\n",
       "      <th>Col2</th>\n",
       "      <th>TransactionMonth</th>\n",
       "      <th>RegistrationYear</th>\n",
       "      <th>VehicleIntroDate</th>\n",
       "      <th>Partialemptycol</th>\n",
       "      <th>Stringcol</th>\n",
       "      <th>CapitalOutstanding</th>\n",
       "      <th>Mmcode</th>\n",
       "      <th>Cubiccapacity</th>\n",
       "      <th>Kilowatts</th>\n",
       "      <th>NumberOfDoors</th>\n",
       "      <th>Cylinders</th>\n",
       "      <th>SumInsured</th>\n",
       "      <th>CalculatedPremiumPerTerm</th>\n",
       "      <th>TotalPremium</th>\n",
       "      <th>TotalClaims</th>\n",
       "    </tr>\n",
       "  </thead>\n",
       "  <tbody>\n",
       "    <tr>\n",
       "      <th>0</th>\n",
       "      <td>1</td>\n",
       "      <td>A</td>\n",
       "      <td>2023-01-01</td>\n",
       "      <td>2020-01-01</td>\n",
       "      <td>2019-01-01</td>\n",
       "      <td>1.0</td>\n",
       "      <td>cat</td>\n",
       "      <td>1.2</td>\n",
       "      <td>101</td>\n",
       "      <td>1000</td>\n",
       "      <td>50</td>\n",
       "      <td>2</td>\n",
       "      <td>4</td>\n",
       "      <td>10000</td>\n",
       "      <td>100</td>\n",
       "      <td>500</td>\n",
       "      <td>10</td>\n",
       "    </tr>\n",
       "    <tr>\n",
       "      <th>1</th>\n",
       "      <td>2</td>\n",
       "      <td>B</td>\n",
       "      <td>2023-03-01</td>\n",
       "      <td>2021-01-01</td>\n",
       "      <td>2020-01-01</td>\n",
       "      <td>2.0</td>\n",
       "      <td>dog</td>\n",
       "      <td>3.4</td>\n",
       "      <td>102</td>\n",
       "      <td>1500</td>\n",
       "      <td>75</td>\n",
       "      <td>4</td>\n",
       "      <td>4</td>\n",
       "      <td>20000</td>\n",
       "      <td>200</td>\n",
       "      <td>1000</td>\n",
       "      <td>20</td>\n",
       "    </tr>\n",
       "    <tr>\n",
       "      <th>2</th>\n",
       "      <td>4</td>\n",
       "      <td>D</td>\n",
       "      <td>2023-04-01</td>\n",
       "      <td>2023-01-01</td>\n",
       "      <td>2022-01-01</td>\n",
       "      <td>4.0</td>\n",
       "      <td>dog</td>\n",
       "      <td>7.8</td>\n",
       "      <td>104</td>\n",
       "      <td>2500</td>\n",
       "      <td>125</td>\n",
       "      <td>2</td>\n",
       "      <td>4</td>\n",
       "      <td>40000</td>\n",
       "      <td>400</td>\n",
       "      <td>2000</td>\n",
       "      <td>40</td>\n",
       "    </tr>\n",
       "  </tbody>\n",
       "</table>\n",
       "</div>"
      ],
      "text/plain": [
       "   Col1 Col2 TransactionMonth RegistrationYear VehicleIntroDate  \\\n",
       "0     1    A       2023-01-01       2020-01-01       2019-01-01   \n",
       "1     2    B       2023-03-01       2021-01-01       2020-01-01   \n",
       "2     4    D       2023-04-01       2023-01-01       2022-01-01   \n",
       "\n",
       "   Partialemptycol Stringcol  CapitalOutstanding  Mmcode  Cubiccapacity  \\\n",
       "0              1.0       cat                 1.2     101           1000   \n",
       "1              2.0       dog                 3.4     102           1500   \n",
       "2              4.0       dog                 7.8     104           2500   \n",
       "\n",
       "   Kilowatts  NumberOfDoors  Cylinders  SumInsured  CalculatedPremiumPerTerm  \\\n",
       "0         50              2          4       10000                       100   \n",
       "1         75              4          4       20000                       200   \n",
       "2        125              2          4       40000                       400   \n",
       "\n",
       "   TotalPremium  TotalClaims  \n",
       "0           500           10  \n",
       "1          1000           20  \n",
       "2          2000           40  "
      ]
     },
     "metadata": {},
     "output_type": "display_data"
    },
    {
     "name": "stdout",
     "output_type": "stream",
     "text": [
      "\n",
      "DataFrame Info:\n",
      "<class 'pandas.core.frame.DataFrame'>\n",
      "RangeIndex: 3 entries, 0 to 2\n",
      "Data columns (total 17 columns):\n",
      " #   Column                    Non-Null Count  Dtype         \n",
      "---  ------                    --------------  -----         \n",
      " 0   Col1                      3 non-null      int64         \n",
      " 1   Col2                      3 non-null      object        \n",
      " 2   TransactionMonth          3 non-null      datetime64[ns]\n",
      " 3   RegistrationYear          3 non-null      datetime64[ns]\n",
      " 4   VehicleIntroDate          3 non-null      datetime64[ns]\n",
      " 5   Partialemptycol           3 non-null      float64       \n",
      " 6   Stringcol                 3 non-null      object        \n",
      " 7   CapitalOutstanding        3 non-null      float64       \n",
      " 8   Mmcode                    3 non-null      int64         \n",
      " 9   Cubiccapacity             3 non-null      int64         \n",
      " 10  Kilowatts                 3 non-null      int64         \n",
      " 11  NumberOfDoors             3 non-null      int64         \n",
      " 12  Cylinders                 3 non-null      int64         \n",
      " 13  SumInsured                3 non-null      int64         \n",
      " 14  CalculatedPremiumPerTerm  3 non-null      int64         \n",
      " 15  TotalPremium              3 non-null      int64         \n",
      " 16  TotalClaims               3 non-null      int64         \n",
      "dtypes: datetime64[ns](3), float64(2), int64(10), object(2)\n",
      "memory usage: 540.0+ bytes\n",
      "\n",
      "DataFrame Shape:\n"
     ]
    },
    {
     "data": {
      "text/plain": [
       "(3, 17)"
      ]
     },
     "metadata": {},
     "output_type": "display_data"
    },
    {
     "name": "stdout",
     "output_type": "stream",
     "text": [
      "\n",
      "DataFrame Description:\n"
     ]
    },
    {
     "data": {
      "application/vnd.microsoft.datawrangler.viewer.v0+json": {
       "columns": [
        {
         "name": "index",
         "rawType": "object",
         "type": "string"
        },
        {
         "name": "SumInsured",
         "rawType": "float64",
         "type": "float"
        },
        {
         "name": "CalculatedPremiumPerTerm",
         "rawType": "float64",
         "type": "float"
        },
        {
         "name": "TotalPremium",
         "rawType": "float64",
         "type": "float"
        },
        {
         "name": "TotalClaims",
         "rawType": "float64",
         "type": "float"
        }
       ],
       "ref": "2384c3f5-a4b0-452d-b0de-f256845e3522",
       "rows": [
        [
         "count",
         "3.0",
         "3.0",
         "3.0",
         "3.0"
        ],
        [
         "mean",
         "23333.333333333332",
         "233.33333333333334",
         "1166.6666666666667",
         "23.333333333333332"
        ],
        [
         "std",
         "15275.252316519465",
         "152.75252316519467",
         "763.7626158259733",
         "15.275252316519467"
        ],
        [
         "min",
         "10000.0",
         "100.0",
         "500.0",
         "10.0"
        ],
        [
         "25%",
         "15000.0",
         "150.0",
         "750.0",
         "15.0"
        ],
        [
         "50%",
         "20000.0",
         "200.0",
         "1000.0",
         "20.0"
        ],
        [
         "75%",
         "30000.0",
         "300.0",
         "1500.0",
         "30.0"
        ],
        [
         "max",
         "40000.0",
         "400.0",
         "2000.0",
         "40.0"
        ]
       ],
       "shape": {
        "columns": 4,
        "rows": 8
       }
      },
      "text/html": [
       "<div>\n",
       "<style scoped>\n",
       "    .dataframe tbody tr th:only-of-type {\n",
       "        vertical-align: middle;\n",
       "    }\n",
       "\n",
       "    .dataframe tbody tr th {\n",
       "        vertical-align: top;\n",
       "    }\n",
       "\n",
       "    .dataframe thead th {\n",
       "        text-align: right;\n",
       "    }\n",
       "</style>\n",
       "<table border=\"1\" class=\"dataframe\">\n",
       "  <thead>\n",
       "    <tr style=\"text-align: right;\">\n",
       "      <th></th>\n",
       "      <th>SumInsured</th>\n",
       "      <th>CalculatedPremiumPerTerm</th>\n",
       "      <th>TotalPremium</th>\n",
       "      <th>TotalClaims</th>\n",
       "    </tr>\n",
       "  </thead>\n",
       "  <tbody>\n",
       "    <tr>\n",
       "      <th>count</th>\n",
       "      <td>3.000000</td>\n",
       "      <td>3.000000</td>\n",
       "      <td>3.000000</td>\n",
       "      <td>3.000000</td>\n",
       "    </tr>\n",
       "    <tr>\n",
       "      <th>mean</th>\n",
       "      <td>23333.333333</td>\n",
       "      <td>233.333333</td>\n",
       "      <td>1166.666667</td>\n",
       "      <td>23.333333</td>\n",
       "    </tr>\n",
       "    <tr>\n",
       "      <th>std</th>\n",
       "      <td>15275.252317</td>\n",
       "      <td>152.752523</td>\n",
       "      <td>763.762616</td>\n",
       "      <td>15.275252</td>\n",
       "    </tr>\n",
       "    <tr>\n",
       "      <th>min</th>\n",
       "      <td>10000.000000</td>\n",
       "      <td>100.000000</td>\n",
       "      <td>500.000000</td>\n",
       "      <td>10.000000</td>\n",
       "    </tr>\n",
       "    <tr>\n",
       "      <th>25%</th>\n",
       "      <td>15000.000000</td>\n",
       "      <td>150.000000</td>\n",
       "      <td>750.000000</td>\n",
       "      <td>15.000000</td>\n",
       "    </tr>\n",
       "    <tr>\n",
       "      <th>50%</th>\n",
       "      <td>20000.000000</td>\n",
       "      <td>200.000000</td>\n",
       "      <td>1000.000000</td>\n",
       "      <td>20.000000</td>\n",
       "    </tr>\n",
       "    <tr>\n",
       "      <th>75%</th>\n",
       "      <td>30000.000000</td>\n",
       "      <td>300.000000</td>\n",
       "      <td>1500.000000</td>\n",
       "      <td>30.000000</td>\n",
       "    </tr>\n",
       "    <tr>\n",
       "      <th>max</th>\n",
       "      <td>40000.000000</td>\n",
       "      <td>400.000000</td>\n",
       "      <td>2000.000000</td>\n",
       "      <td>40.000000</td>\n",
       "    </tr>\n",
       "  </tbody>\n",
       "</table>\n",
       "</div>"
      ],
      "text/plain": [
       "         SumInsured  CalculatedPremiumPerTerm  TotalPremium  TotalClaims\n",
       "count      3.000000                  3.000000      3.000000     3.000000\n",
       "mean   23333.333333                233.333333   1166.666667    23.333333\n",
       "std    15275.252317                152.752523    763.762616    15.275252\n",
       "min    10000.000000                100.000000    500.000000    10.000000\n",
       "25%    15000.000000                150.000000    750.000000    15.000000\n",
       "50%    20000.000000                200.000000   1000.000000    20.000000\n",
       "75%    30000.000000                300.000000   1500.000000    30.000000\n",
       "max    40000.000000                400.000000   2000.000000    40.000000"
      ]
     },
     "metadata": {},
     "output_type": "display_data"
    },
    {
     "name": "stderr",
     "output_type": "stream",
     "text": [
      "ok\n",
      "\n",
      "----------------------------------------------------------------------\n",
      "Ran 10 tests in 0.575s\n",
      "\n",
      "OK\n"
     ]
    }
   ],
   "source": [
    "import unittest\n",
    "import pandas as pd\n",
    "import numpy as np\n",
    "import os\n",
    "import sys\n",
    "\n",
    "#define path\n",
    "sys.path.append(os.path.abspath(os.path.join('..')))\n",
    "\n",
    "#import custom modules\n",
    "from scripts.DataLoading import data_loading \n",
    "\n",
    "class TestDataLoading(unittest.TestCase):\n",
    "\n",
    "    def setUp(self):\n",
    "        #create a dummy CSV file for testing\n",
    "        self.dummy_data = {\n",
    "            'col1': [1, 2, 3, 4, 5],\n",
    "            'col2': ['A', 'B', '  ', 'D', 'E'],\n",
    "            'TransactionMonth': ['2023-01-01', '2023-03-01', '2023-02-01', '2023-04-01', '2023-05-01'],\n",
    "            'RegistrationYear': [2020, 2021, 2022, 2023, 2024],\n",
    "            'VehicleIntroDate': ['2019-01-01', '2020-01-01', '2021-01-01', '2022-01-01', '2023-01-01'],\n",
    "            'EmptyCol': [np.nan] * 5,\n",
    "            'partialEmptyCol': [1, 2, 3, 4, np.nan],\n",
    "            'stringCol': ['cat', 'dog', 'cat', 'dog', 'cat'],\n",
    "            'CapitalOutstanding': ['1,2', '3,4', '5,6', '7,8', '9,0'],\n",
    "            'Mmcode': [101, 102, 103, 104, 105],\n",
    "            'Cubiccapacity': [1000, 1500, 2000, 2500, 3000],\n",
    "            'Kilowatts': [50, 75, 100, 125, 150],\n",
    "            'NumberOfDoors': [2, 4, 4, 2, 4],\n",
    "            'Cylinders': [4, 4, 6, 4, 6],\n",
    "            'SumInsured': [10000, 20000, 30000, 40000, 50000],\n",
    "            'CalculatedPremiumPerTerm': [100, 200, 300, 400, 500],\n",
    "            'TotalPremium': [500, 1000, 1500, 2000, 2500],\n",
    "            'TotalClaims': [10, 20, 30, 40, 50]\n",
    "        }\n",
    "        self.dummy_df = pd.DataFrame(self.dummy_data)\n",
    "        self.dummy_file_path = 'test_data.csv'\n",
    "        self.dummy_df.to_csv(self.dummy_file_path, sep='|', index=False)\n",
    "        self.output_folder = 'test_output'\n",
    "        os.makedirs(self.output_folder, exist_ok=True)\n",
    "\n",
    "    def tearDown(self):\n",
    "        #clean up the dummy file and output folder after testing\n",
    "        if os.path.exists(self.dummy_file_path):\n",
    "            os.remove(self.dummy_file_path)\n",
    "        if os.path.exists(self.output_folder):\n",
    "            import shutil\n",
    "            shutil.rmtree(self.output_folder)\n",
    "\n",
    "    def test_load_df_successful(self):\n",
    "        data_loader = data_loading(self.dummy_file_path, self.output_folder)\n",
    "        loaded_df = data_loader.load_df()\n",
    "        self.assertIsInstance(loaded_df, pd.DataFrame)\n",
    "        self.assertFalse(loaded_df.empty)\n",
    "\n",
    "    def test_load_df_capitalizes_columns(self):\n",
    "        data_loader = data_loading(self.dummy_file_path, self.output_folder)\n",
    "        loaded_df = data_loader.load_df()\n",
    "        self.assertTrue(all(col[0].isupper() for col in loaded_df.columns))\n",
    "\n",
    "    def test_load_df_replaces_empty_with_nan(self):\n",
    "        data_loader = data_loading(self.dummy_file_path, self.output_folder)\n",
    "        #load the data directly to check the replacement before dropping\n",
    "        raw_df = pd.read_csv(self.dummy_file_path, engine='python', sep='|')\n",
    "        #apply the replacement logic from the data_loading class\n",
    "        new_df_after_replace = raw_df.replace('  ', np.nan).infer_objects(copy=False)\n",
    "        #capitalise columns to match the data_loading output structure for the check\n",
    "        new_df_after_replace.columns = [col.capitalize() if col[0].islower() else col for col in new_df_after_replace.columns]\n",
    "        self.assertTrue(new_df_after_replace['Col2'].isnull().iloc[2])\n",
    "\n",
    "    def test_load_df_datetime_conversion(self):\n",
    "        data_loader = data_loading(self.dummy_file_path, self.output_folder)\n",
    "        loaded_df = data_loader.load_df()\n",
    "        self.assertTrue(pd.api.types.is_datetime64_any_dtype(loaded_df['TransactionMonth']))\n",
    "        self.assertTrue(pd.api.types.is_datetime64_any_dtype(loaded_df['RegistrationYear']))\n",
    "        self.assertTrue(pd.api.types.is_datetime64_any_dtype(loaded_df['VehicleIntroDate']))\n",
    "\n",
    "    def test_load_df_drops_columns_with_high_nan(self):\n",
    "        data_loader = data_loading(self.dummy_file_path, self.output_folder)\n",
    "        loaded_df = data_loader.load_df()\n",
    "        self.assertNotIn('Emptycol', loaded_df.columns)\n",
    "\n",
    "    def test_load_df_drops_rows_with_low_nan(self):\n",
    "        #create a dummy file with rows to be dropped\n",
    "        dummy_data_with_nan_row = {\n",
    "            'col1': [1, 2, np.nan, 4, 5],\n",
    "            'col2': ['A', 'B', '  ', 'D', 'E'],\n",
    "            'TransactionMonth': ['2023-01-01', '2023-03-01', '2023-02-01', '2023-04-01', '2023-05-01'],\n",
    "            'RegistrationYear': [2020, 2021, 2022, 2023, 2024],\n",
    "            'VehicleIntroDate': ['2019-01-01', '2020-01-01', '2021-01-01', '2022-01-01', '2023-01-01'],\n",
    "            'EmptyCol': [np.nan] * 5,\n",
    "            'PartialEmptyCol': [1, 2, np.nan, 4, np.nan],\n",
    "            'StringCol': ['cat', 'dog', 'cat', 'dog', 'cat'],\n",
    "            'CapitalOutstanding': ['1,2', '3,4', '5,6', '7,8', '9,0'],\n",
    "            'Mmcode': [101, 102, 103, 104, 105],\n",
    "            'Cubiccapacity': [1000, 1500, 2000, 2500, 3000],\n",
    "            'Kilowatts': [50, 75, 100, 125, 150],\n",
    "            'NumberOfDoors': [2, 4, 4, 2, 4],\n",
    "            'Cylinders': [4, 4, 6, 4, 6],\n",
    "            'SumInsured': [10000, 20000, 30000, 40000, 50000],\n",
    "            'CalculatedPremiumPerTerm': [100, 200, 300, 400, 500],\n",
    "            'TotalPremium': [500, 1000, 1500, 2000, 2500],\n",
    "            'TotalClaims': [10, 20, 30, 40, 50]\n",
    "        }\n",
    "        dummy_df_with_nan_row = pd.DataFrame(dummy_data_with_nan_row)\n",
    "        dummy_file_path_with_nan = 'test_data_with_nan.csv'\n",
    "        dummy_df_with_nan_row.to_csv(dummy_file_path_with_nan, sep='|', index=False)\n",
    "\n",
    "        data_loader = data_loading(dummy_file_path_with_nan, self.output_folder)\n",
    "        loaded_df = data_loader.load_df()\n",
    "        #expect two rows to be dropped as per the data and code logic\n",
    "        self.assertEqual(len(loaded_df), len(dummy_df_with_nan_row) - 2)\n",
    "\n",
    "        #clean up the extra dummy file\n",
    "        if os.path.exists(dummy_file_path_with_nan):\n",
    "            os.remove(dummy_file_path_with_nan)\n",
    "\n",
    "    def test_load_df_dtype_conversion_float(self):\n",
    "        data_loader = data_loading(self.dummy_file_path, self.output_folder)\n",
    "        loaded_df = data_loader.load_df()\n",
    "        self.assertTrue(pd.api.types.is_float_dtype(loaded_df['CapitalOutstanding']))\n",
    "\n",
    "    def test_load_df_dtype_conversion_int(self):\n",
    "        data_loader = data_loading(self.dummy_file_path, self.output_folder)\n",
    "        loaded_df = data_loader.load_df()\n",
    "        int_cols = ['Mmcode', 'Cubiccapacity', 'Kilowatts', 'NumberOfDoors', 'Cylinders']\n",
    "        for col in int_cols:\n",
    "            self.assertTrue(pd.api.types.is_integer_dtype(loaded_df[col]))\n",
    "\n",
    "    def test_load_df_sorts_by_transactionmonth(self):\n",
    "        data_loader = data_loading(self.dummy_file_path, self.output_folder)\n",
    "        loaded_df = data_loader.load_df()\n",
    "        sorted_dates = loaded_df['TransactionMonth'].tolist()\n",
    "        self.assertEqual(sorted_dates, sorted(sorted_dates))\n",
    "\n",
    "    def test_load_df_saves_processed_file(self):\n",
    "        data_loader = data_loading(self.dummy_file_path, self.output_folder)\n",
    "        data_loader.load_df()\n",
    "        saved_file_path = os.path.join(self.output_folder, 'processed_insurance_data.csv')\n",
    "        self.assertTrue(os.path.exists(saved_file_path))\n",
    "\n",
    "#run class\n",
    "if __name__ == '__main__':\n",
    "    unittest.main(argv=['first-arg-is-ignored'], exit=False, verbosity=2)"
   ]
  }
 ],
 "metadata": {
  "kernelspec": {
   "display_name": ".insurvenv",
   "language": "python",
   "name": "python3"
  },
  "language_info": {
   "codemirror_mode": {
    "name": "ipython",
    "version": 3
   },
   "file_extension": ".py",
   "mimetype": "text/x-python",
   "name": "python",
   "nbconvert_exporter": "python",
   "pygments_lexer": "ipython3",
   "version": "3.13.3"
  }
 },
 "nbformat": 4,
 "nbformat_minor": 5
}
