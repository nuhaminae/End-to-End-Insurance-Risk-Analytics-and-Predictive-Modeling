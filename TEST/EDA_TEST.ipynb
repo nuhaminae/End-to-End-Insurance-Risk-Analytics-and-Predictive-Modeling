{
 "cells": [
  {
   "cell_type": "code",
   "execution_count": 1,
   "id": "de7329d7",
   "metadata": {},
   "outputs": [
    {
     "name": "stderr",
     "output_type": "stream",
     "text": [
      "...\n",
      "----------------------------------------------------------------------\n",
      "Ran 3 tests in 0.015s\n",
      "\n",
      "OK\n"
     ]
    },
    {
     "name": "stdout",
     "output_type": "stream",
     "text": [
      "Error: File not found at non_existent_file.csv\n",
      "DataFrame loaded successfully from test_data\\dummy_data.csv\n"
     ]
    }
   ],
   "source": [
    "import unittest\n",
    "import pandas as pd\n",
    "import os\n",
    "import sys\n",
    "import shutil\n",
    "\n",
    "#define path\n",
    "sys.path.append(os.path.abspath(os.path.join('..')))\n",
    "\n",
    "#import custom modules\n",
    "from scripts.EDA import EDA_processor \n",
    "\n",
    "class TestEDAProcessor(unittest.TestCase):\n",
    "\n",
    "    def setUp(self):\n",
    "        \"\"\"Set up a temporary directory and a dummy CSV file for testing.\"\"\"\n",
    "        self.test_dir = 'test_data'\n",
    "        os.makedirs(self.test_dir, exist_ok=True)\n",
    "        self.dummy_csv_path = os.path.join(self.test_dir, 'dummy_data.csv')\n",
    "        self.dummy_df = pd.DataFrame({\n",
    "            'col1': [1, 2, 3],\n",
    "            'col2': ['a', 'b', 'c']\n",
    "        })\n",
    "        self.dummy_df.to_csv(self.dummy_csv_path, index=False)\n",
    "\n",
    "    def tearDown(self):\n",
    "        \"\"\"Remove the temporary directory and its contents after testing.\"\"\"\n",
    "        if os.path.exists(self.test_dir):\n",
    "            shutil.rmtree(self.test_dir)\n",
    "\n",
    "    def test_load_processed_df_success(self):\n",
    "        \"\"\"Test that the DataFrame is loaded successfully from a valid path.\"\"\"\n",
    "        processor = EDA_processor(processed_df_path=self.dummy_csv_path)\n",
    "        self.assertIsNotNone(processor.df)\n",
    "        pd.testing.assert_frame_equal(processor.df, self.dummy_df)\n",
    "\n",
    "    def test_load_processed_df_file_not_found(self):\n",
    "        \"\"\"Test that df is None when the file is not found.\"\"\"\n",
    "        processor = EDA_processor(processed_df_path='non_existent_file.csv')\n",
    "        self.assertIsNone(processor.df)\n",
    "\n",
    "    def test_load_processed_df_no_path_provided(self):\n",
    "        \"\"\"Test that df is None when no path is provided.\"\"\"\n",
    "        processor = EDA_processor()\n",
    "        self.assertIsNone(processor.df)\n",
    "\n",
    "#run unittest class\n",
    "if __name__ == '__main__':\n",
    "    unittest.main(argv=['first-arg-is-ignored'], exit=False)"
   ]
  }
 ],
 "metadata": {
  "kernelspec": {
   "display_name": ".insurvenv",
   "language": "python",
   "name": "python3"
  },
  "language_info": {
   "codemirror_mode": {
    "name": "ipython",
    "version": 3
   },
   "file_extension": ".py",
   "mimetype": "text/x-python",
   "name": "python",
   "nbconvert_exporter": "python",
   "pygments_lexer": "ipython3",
   "version": "3.13.3"
  }
 },
 "nbformat": 4,
 "nbformat_minor": 5
}
