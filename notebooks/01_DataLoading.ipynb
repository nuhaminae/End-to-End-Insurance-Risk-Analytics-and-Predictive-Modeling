{
 "cells": [
  {
   "cell_type": "markdown",
   "id": "df436009",
   "metadata": {},
   "source": [
    "# **Import Modules**"
   ]
  },
  {
   "cell_type": "code",
   "execution_count": 1,
   "id": "5f5c1ae3",
   "metadata": {},
   "outputs": [],
   "source": [
    "import os\n",
    "import sys"
   ]
  },
  {
   "cell_type": "code",
   "execution_count": 2,
   "id": "71f09cd5",
   "metadata": {},
   "outputs": [],
   "source": [
    "#define path\n",
    "sys.path.append(os.path.abspath(os.path.join('..')))\n",
    "\n",
    "#import custom modules\n",
    "from scripts.DataLoading import data_loading"
   ]
  },
  {
   "cell_type": "markdown",
   "id": "84733a55",
   "metadata": {},
   "source": [
    "# **Load and Preprocess DataFrame**"
   ]
  },
  {
   "cell_type": "code",
   "execution_count": 3,
   "id": "1963c2d5",
   "metadata": {},
   "outputs": [],
   "source": [
    "#define df path\n",
    "df_path = os.path.join(os.path.dirname(os.getcwd()), 'data/MachineLearningRating_v3.txt')\n",
    "output_folder = os.path.join(os.path.dirname(os.getcwd()), 'data')"
   ]
  },
  {
   "cell_type": "code",
   "execution_count": 4,
   "id": "7618f997",
   "metadata": {},
   "outputs": [
    {
     "name": "stdout",
     "output_type": "stream",
     "text": [
      "File read successfully!\n",
      "\n",
      "Coloumns are capitalised.\n",
      "\n",
      "Empty indexes are filled with \"NAN\" values.\n",
      "\n",
      "Coloumns ['Citizenship', 'VehicleIntroDate', 'CustomValueEstimate', 'WrittenOff', 'Rebuilt', 'Converted', 'CrossBorder', 'NumberOfVehiclesInFleet'] are dropped.\n",
      "\n",
      "Indexes with empty values are dropped.\n",
      "\n",
      "DataFrame is sorted by TransactionMonth column.\n",
      "\n",
      "DataFrame is preprocessed.\n",
      "\n",
      "Prrocessed DataFrame Saved to: ..\\data\\processed_insurance_data.csv\n",
      "\n",
      "DataFrame Head:\n"
     ]
    },
    {
     "data": {
      "application/vnd.microsoft.datawrangler.viewer.v0+json": {
       "columns": [
        {
         "name": "index",
         "rawType": "int64",
         "type": "integer"
        },
        {
         "name": "UnderwrittenCoverID",
         "rawType": "int64",
         "type": "integer"
        },
        {
         "name": "PolicyID",
         "rawType": "int64",
         "type": "integer"
        },
        {
         "name": "TransactionMonth",
         "rawType": "datetime64[ns]",
         "type": "datetime"
        },
        {
         "name": "IsVATRegistered",
         "rawType": "bool",
         "type": "boolean"
        },
        {
         "name": "LegalType",
         "rawType": "object",
         "type": "string"
        },
        {
         "name": "Title",
         "rawType": "object",
         "type": "string"
        },
        {
         "name": "Language",
         "rawType": "object",
         "type": "string"
        },
        {
         "name": "Bank",
         "rawType": "object",
         "type": "string"
        },
        {
         "name": "AccountType",
         "rawType": "object",
         "type": "string"
        },
        {
         "name": "MaritalStatus",
         "rawType": "object",
         "type": "string"
        },
        {
         "name": "Gender",
         "rawType": "object",
         "type": "string"
        },
        {
         "name": "Country",
         "rawType": "object",
         "type": "string"
        },
        {
         "name": "Province",
         "rawType": "object",
         "type": "string"
        },
        {
         "name": "PostalCode",
         "rawType": "int64",
         "type": "integer"
        },
        {
         "name": "MainCrestaZone",
         "rawType": "object",
         "type": "string"
        },
        {
         "name": "SubCrestaZone",
         "rawType": "object",
         "type": "string"
        },
        {
         "name": "ItemType",
         "rawType": "object",
         "type": "string"
        },
        {
         "name": "Mmcode",
         "rawType": "int64",
         "type": "integer"
        },
        {
         "name": "VehicleType",
         "rawType": "object",
         "type": "string"
        },
        {
         "name": "RegistrationYear",
         "rawType": "datetime64[ns]",
         "type": "datetime"
        },
        {
         "name": "Make",
         "rawType": "object",
         "type": "string"
        },
        {
         "name": "Model",
         "rawType": "object",
         "type": "string"
        },
        {
         "name": "Cylinders",
         "rawType": "int64",
         "type": "integer"
        },
        {
         "name": "Cubiccapacity",
         "rawType": "int64",
         "type": "integer"
        },
        {
         "name": "Kilowatts",
         "rawType": "int64",
         "type": "integer"
        },
        {
         "name": "Bodytype",
         "rawType": "object",
         "type": "string"
        },
        {
         "name": "NumberOfDoors",
         "rawType": "int64",
         "type": "integer"
        },
        {
         "name": "AlarmImmobiliser",
         "rawType": "object",
         "type": "string"
        },
        {
         "name": "TrackingDevice",
         "rawType": "object",
         "type": "string"
        },
        {
         "name": "CapitalOutstanding",
         "rawType": "float64",
         "type": "float"
        },
        {
         "name": "NewVehicle",
         "rawType": "object",
         "type": "string"
        },
        {
         "name": "SumInsured",
         "rawType": "float64",
         "type": "float"
        },
        {
         "name": "TermFrequency",
         "rawType": "object",
         "type": "string"
        },
        {
         "name": "CalculatedPremiumPerTerm",
         "rawType": "float64",
         "type": "float"
        },
        {
         "name": "ExcessSelected",
         "rawType": "object",
         "type": "string"
        },
        {
         "name": "CoverCategory",
         "rawType": "object",
         "type": "string"
        },
        {
         "name": "CoverType",
         "rawType": "object",
         "type": "string"
        },
        {
         "name": "CoverGroup",
         "rawType": "object",
         "type": "string"
        },
        {
         "name": "Section",
         "rawType": "object",
         "type": "string"
        },
        {
         "name": "Product",
         "rawType": "object",
         "type": "string"
        },
        {
         "name": "StatutoryClass",
         "rawType": "object",
         "type": "string"
        },
        {
         "name": "StatutoryRiskType",
         "rawType": "object",
         "type": "string"
        },
        {
         "name": "TotalPremium",
         "rawType": "float64",
         "type": "float"
        },
        {
         "name": "TotalClaims",
         "rawType": "float64",
         "type": "float"
        }
       ],
       "ref": "9150f785-ac11-46be-a7b0-8ab648aa0a9a",
       "rows": [
        [
         "0",
         "603",
         "91",
         "2013-11-01 00:00:00",
         "False",
         "Individual",
         "Mr",
         "English",
         "Standard Bank",
         "Current account",
         "Not specified",
         "Male",
         "South Africa",
         "Gauteng",
         "1441",
         "Rand East",
         "Rand East",
         "Mobility - Motor",
         "60058418",
         "Passenger Vehicle",
         "2008-01-01 00:00:00",
         "TOYOTA",
         "QUANTUM 2.7 SESFIKILE 15s",
         "4",
         "2694",
         "111",
         "B/S",
         "4",
         "Yes",
         "No",
         "0.0",
         "More than 6 months",
         "141000.0",
         "Monthly",
         "616.9177",
         "Mobility - Taxi with value more than R100 000 - R5 000",
         "Own Damage ",
         "Own Damage",
         "Comprehensive - Taxi",
         "Motor Comprehensive",
         "Mobility Commercial Cover: Monthly",
         "Commercial",
         "IFRS Constant",
         "0.0",
         "0.0"
        ],
        [
         "1",
         "960",
         "140",
         "2013-11-01 00:00:00",
         "False",
         "Individual",
         "Mr",
         "English",
         "Standard Bank",
         "Current account",
         "Not specified",
         "Male",
         "South Africa",
         "Gauteng",
         "2040",
         "Johannesburg",
         "Johannesburg",
         "Mobility - Motor",
         "60058419",
         "Passenger Vehicle",
         "2013-01-01 00:00:00",
         "TOYOTA",
         "QUANTUM 2.7 SESFIKILE 16s",
         "4",
         "2694",
         "111",
         "B/S",
         "4",
         "Yes",
         "No",
         "0.0",
         "More than 6 months",
         "500000.0",
         "Monthly",
         "375.1822",
         "No excess",
         "Third Party",
         "Third Party",
         "Comprehensive - Taxi",
         "Motor Comprehensive",
         "Mobility Commercial Cover: Monthly",
         "Commercial",
         "IFRS Constant",
         "0.0",
         "0.0"
        ],
        [
         "2",
         "568",
         "89",
         "2013-11-01 00:00:00",
         "False",
         "Individual",
         "Mr",
         "English",
         "Standard Bank",
         "Current account",
         "Not specified",
         "Male",
         "South Africa",
         "Western Cape",
         "7460",
         "Karoo 1 (Northeast of Cape Town)",
         "Northeast of CT",
         "Mobility - Motor",
         "60058400",
         "Passenger Vehicle",
         "2011-01-01 00:00:00",
         "TOYOTA",
         "QUANTUM 2.5 D-4D 14 SEAT",
         "4",
         "2494",
         "75",
         "B/S",
         "4",
         "Yes",
         "No",
         "213600.0",
         "More than 6 months",
         "7500.0",
         "Monthly",
         "90.0",
         "No excess",
         "Basic Excess Waiver",
         "Basic Excess Waiver",
         "Basic Excess Waiver",
         "Optional Extended Covers",
         "Mobility Commercial Cover: Monthly",
         "Commercial",
         "IFRS Constant",
         "2.631578947368",
         "0.0"
        ],
        [
         "3",
         "911",
         "137",
         "2013-11-01 00:00:00",
         "False",
         "Individual",
         "Mr",
         "English",
         "First National Bank",
         "Savings account",
         "Not specified",
         "Male",
         "South Africa",
         "North West",
         "2744",
         "Transvaal (all except Pretoria)",
         "Transvaal Mid West",
         "Mobility - Motor",
         "47010260",
         "Passenger Vehicle",
         "2013-01-01 00:00:00",
         "NISSAN",
         "MICRA 1.5 TEKNA 5DR (D85)",
         "4",
         "1461",
         "73",
         "H/B",
         "5",
         "Yes",
         "No",
         "129000.0",
         "More than 6 months",
         "5000.0",
         "Monthly",
         "1.5575",
         "No excess",
         "Keys and Alarms",
         "Keys and Alarms",
         "Comprehensive - Taxi",
         "Motor Comprehensive",
         "Mobility Metered Taxis: Monthly",
         "Commercial",
         "IFRS Constant",
         "0.0",
         "0.0"
        ],
        [
         "4",
         "1106",
         "148",
         "2013-11-01 00:00:00",
         "False",
         "Individual",
         "Mr",
         "English",
         "Standard Bank",
         "Current account",
         "Not specified",
         "Male",
         "South Africa",
         "North West",
         "2744",
         "Transvaal (all except Pretoria)",
         "Transvaal Mid West",
         "Mobility - Motor",
         "22840150",
         "Passenger Vehicle",
         "2011-01-01 00:00:00",
         "GOLDEN JOURNEY",
         "IBHUBEZI 2.2i",
         "4",
         "2237",
         "76",
         "B/S",
         "4",
         "Yes",
         "No",
         "20000.0",
         "More than 6 months",
         "5000.0",
         "Monthly",
         "2.2693",
         "No excess",
         "Keys and Alarms",
         "Keys and Alarms",
         "Comprehensive - Taxi",
         "Motor Comprehensive",
         "Mobility Commercial Cover: Monthly",
         "Commercial",
         "IFRS Constant",
         "1.59249122807",
         "0.0"
        ]
       ],
       "shape": {
        "columns": 44,
        "rows": 5
       }
      },
      "text/html": [
       "<div>\n",
       "<style scoped>\n",
       "    .dataframe tbody tr th:only-of-type {\n",
       "        vertical-align: middle;\n",
       "    }\n",
       "\n",
       "    .dataframe tbody tr th {\n",
       "        vertical-align: top;\n",
       "    }\n",
       "\n",
       "    .dataframe thead th {\n",
       "        text-align: right;\n",
       "    }\n",
       "</style>\n",
       "<table border=\"1\" class=\"dataframe\">\n",
       "  <thead>\n",
       "    <tr style=\"text-align: right;\">\n",
       "      <th></th>\n",
       "      <th>UnderwrittenCoverID</th>\n",
       "      <th>PolicyID</th>\n",
       "      <th>TransactionMonth</th>\n",
       "      <th>IsVATRegistered</th>\n",
       "      <th>LegalType</th>\n",
       "      <th>Title</th>\n",
       "      <th>Language</th>\n",
       "      <th>Bank</th>\n",
       "      <th>AccountType</th>\n",
       "      <th>MaritalStatus</th>\n",
       "      <th>...</th>\n",
       "      <th>ExcessSelected</th>\n",
       "      <th>CoverCategory</th>\n",
       "      <th>CoverType</th>\n",
       "      <th>CoverGroup</th>\n",
       "      <th>Section</th>\n",
       "      <th>Product</th>\n",
       "      <th>StatutoryClass</th>\n",
       "      <th>StatutoryRiskType</th>\n",
       "      <th>TotalPremium</th>\n",
       "      <th>TotalClaims</th>\n",
       "    </tr>\n",
       "  </thead>\n",
       "  <tbody>\n",
       "    <tr>\n",
       "      <th>0</th>\n",
       "      <td>603</td>\n",
       "      <td>91</td>\n",
       "      <td>2013-11-01</td>\n",
       "      <td>False</td>\n",
       "      <td>Individual</td>\n",
       "      <td>Mr</td>\n",
       "      <td>English</td>\n",
       "      <td>Standard Bank</td>\n",
       "      <td>Current account</td>\n",
       "      <td>Not specified</td>\n",
       "      <td>...</td>\n",
       "      <td>Mobility - Taxi with value more than R100 000 ...</td>\n",
       "      <td>Own Damage</td>\n",
       "      <td>Own Damage</td>\n",
       "      <td>Comprehensive - Taxi</td>\n",
       "      <td>Motor Comprehensive</td>\n",
       "      <td>Mobility Commercial Cover: Monthly</td>\n",
       "      <td>Commercial</td>\n",
       "      <td>IFRS Constant</td>\n",
       "      <td>0.000000</td>\n",
       "      <td>0.0</td>\n",
       "    </tr>\n",
       "    <tr>\n",
       "      <th>1</th>\n",
       "      <td>960</td>\n",
       "      <td>140</td>\n",
       "      <td>2013-11-01</td>\n",
       "      <td>False</td>\n",
       "      <td>Individual</td>\n",
       "      <td>Mr</td>\n",
       "      <td>English</td>\n",
       "      <td>Standard Bank</td>\n",
       "      <td>Current account</td>\n",
       "      <td>Not specified</td>\n",
       "      <td>...</td>\n",
       "      <td>No excess</td>\n",
       "      <td>Third Party</td>\n",
       "      <td>Third Party</td>\n",
       "      <td>Comprehensive - Taxi</td>\n",
       "      <td>Motor Comprehensive</td>\n",
       "      <td>Mobility Commercial Cover: Monthly</td>\n",
       "      <td>Commercial</td>\n",
       "      <td>IFRS Constant</td>\n",
       "      <td>0.000000</td>\n",
       "      <td>0.0</td>\n",
       "    </tr>\n",
       "    <tr>\n",
       "      <th>2</th>\n",
       "      <td>568</td>\n",
       "      <td>89</td>\n",
       "      <td>2013-11-01</td>\n",
       "      <td>False</td>\n",
       "      <td>Individual</td>\n",
       "      <td>Mr</td>\n",
       "      <td>English</td>\n",
       "      <td>Standard Bank</td>\n",
       "      <td>Current account</td>\n",
       "      <td>Not specified</td>\n",
       "      <td>...</td>\n",
       "      <td>No excess</td>\n",
       "      <td>Basic Excess Waiver</td>\n",
       "      <td>Basic Excess Waiver</td>\n",
       "      <td>Basic Excess Waiver</td>\n",
       "      <td>Optional Extended Covers</td>\n",
       "      <td>Mobility Commercial Cover: Monthly</td>\n",
       "      <td>Commercial</td>\n",
       "      <td>IFRS Constant</td>\n",
       "      <td>2.631579</td>\n",
       "      <td>0.0</td>\n",
       "    </tr>\n",
       "    <tr>\n",
       "      <th>3</th>\n",
       "      <td>911</td>\n",
       "      <td>137</td>\n",
       "      <td>2013-11-01</td>\n",
       "      <td>False</td>\n",
       "      <td>Individual</td>\n",
       "      <td>Mr</td>\n",
       "      <td>English</td>\n",
       "      <td>First National Bank</td>\n",
       "      <td>Savings account</td>\n",
       "      <td>Not specified</td>\n",
       "      <td>...</td>\n",
       "      <td>No excess</td>\n",
       "      <td>Keys and Alarms</td>\n",
       "      <td>Keys and Alarms</td>\n",
       "      <td>Comprehensive - Taxi</td>\n",
       "      <td>Motor Comprehensive</td>\n",
       "      <td>Mobility Metered Taxis: Monthly</td>\n",
       "      <td>Commercial</td>\n",
       "      <td>IFRS Constant</td>\n",
       "      <td>0.000000</td>\n",
       "      <td>0.0</td>\n",
       "    </tr>\n",
       "    <tr>\n",
       "      <th>4</th>\n",
       "      <td>1106</td>\n",
       "      <td>148</td>\n",
       "      <td>2013-11-01</td>\n",
       "      <td>False</td>\n",
       "      <td>Individual</td>\n",
       "      <td>Mr</td>\n",
       "      <td>English</td>\n",
       "      <td>Standard Bank</td>\n",
       "      <td>Current account</td>\n",
       "      <td>Not specified</td>\n",
       "      <td>...</td>\n",
       "      <td>No excess</td>\n",
       "      <td>Keys and Alarms</td>\n",
       "      <td>Keys and Alarms</td>\n",
       "      <td>Comprehensive - Taxi</td>\n",
       "      <td>Motor Comprehensive</td>\n",
       "      <td>Mobility Commercial Cover: Monthly</td>\n",
       "      <td>Commercial</td>\n",
       "      <td>IFRS Constant</td>\n",
       "      <td>1.592491</td>\n",
       "      <td>0.0</td>\n",
       "    </tr>\n",
       "  </tbody>\n",
       "</table>\n",
       "<p>5 rows × 44 columns</p>\n",
       "</div>"
      ],
      "text/plain": [
       "   UnderwrittenCoverID  PolicyID TransactionMonth  IsVATRegistered  \\\n",
       "0                  603        91       2013-11-01            False   \n",
       "1                  960       140       2013-11-01            False   \n",
       "2                  568        89       2013-11-01            False   \n",
       "3                  911       137       2013-11-01            False   \n",
       "4                 1106       148       2013-11-01            False   \n",
       "\n",
       "    LegalType Title Language                 Bank      AccountType  \\\n",
       "0  Individual    Mr  English        Standard Bank  Current account   \n",
       "1  Individual    Mr  English        Standard Bank  Current account   \n",
       "2  Individual    Mr  English        Standard Bank  Current account   \n",
       "3  Individual    Mr  English  First National Bank  Savings account   \n",
       "4  Individual    Mr  English        Standard Bank  Current account   \n",
       "\n",
       "   MaritalStatus  ...                                     ExcessSelected  \\\n",
       "0  Not specified  ...  Mobility - Taxi with value more than R100 000 ...   \n",
       "1  Not specified  ...                                          No excess   \n",
       "2  Not specified  ...                                          No excess   \n",
       "3  Not specified  ...                                          No excess   \n",
       "4  Not specified  ...                                          No excess   \n",
       "\n",
       "         CoverCategory            CoverType            CoverGroup  \\\n",
       "0          Own Damage            Own Damage  Comprehensive - Taxi   \n",
       "1          Third Party          Third Party  Comprehensive - Taxi   \n",
       "2  Basic Excess Waiver  Basic Excess Waiver   Basic Excess Waiver   \n",
       "3      Keys and Alarms      Keys and Alarms  Comprehensive - Taxi   \n",
       "4      Keys and Alarms      Keys and Alarms  Comprehensive - Taxi   \n",
       "\n",
       "                    Section                             Product  \\\n",
       "0       Motor Comprehensive  Mobility Commercial Cover: Monthly   \n",
       "1       Motor Comprehensive  Mobility Commercial Cover: Monthly   \n",
       "2  Optional Extended Covers  Mobility Commercial Cover: Monthly   \n",
       "3       Motor Comprehensive     Mobility Metered Taxis: Monthly   \n",
       "4       Motor Comprehensive  Mobility Commercial Cover: Monthly   \n",
       "\n",
       "  StatutoryClass  StatutoryRiskType TotalPremium TotalClaims  \n",
       "0     Commercial      IFRS Constant     0.000000         0.0  \n",
       "1     Commercial      IFRS Constant     0.000000         0.0  \n",
       "2     Commercial      IFRS Constant     2.631579         0.0  \n",
       "3     Commercial      IFRS Constant     0.000000         0.0  \n",
       "4     Commercial      IFRS Constant     1.592491         0.0  \n",
       "\n",
       "[5 rows x 44 columns]"
      ]
     },
     "metadata": {},
     "output_type": "display_data"
    },
    {
     "name": "stdout",
     "output_type": "stream",
     "text": [
      "\n",
      "DataFrame Info:\n",
      "<class 'pandas.core.frame.DataFrame'>\n",
      "RangeIndex: 716208 entries, 0 to 716207\n",
      "Data columns (total 44 columns):\n",
      " #   Column                    Non-Null Count   Dtype         \n",
      "---  ------                    --------------   -----         \n",
      " 0   UnderwrittenCoverID       716208 non-null  int64         \n",
      " 1   PolicyID                  716208 non-null  int64         \n",
      " 2   TransactionMonth          716208 non-null  datetime64[ns]\n",
      " 3   IsVATRegistered           716208 non-null  bool          \n",
      " 4   LegalType                 716208 non-null  object        \n",
      " 5   Title                     716208 non-null  object        \n",
      " 6   Language                  716208 non-null  object        \n",
      " 7   Bank                      716208 non-null  object        \n",
      " 8   AccountType               716208 non-null  object        \n",
      " 9   MaritalStatus             716208 non-null  object        \n",
      " 10  Gender                    716208 non-null  object        \n",
      " 11  Country                   716208 non-null  object        \n",
      " 12  Province                  716208 non-null  object        \n",
      " 13  PostalCode                716208 non-null  int64         \n",
      " 14  MainCrestaZone            716208 non-null  object        \n",
      " 15  SubCrestaZone             716208 non-null  object        \n",
      " 16  ItemType                  716208 non-null  object        \n",
      " 17  Mmcode                    716208 non-null  int64         \n",
      " 18  VehicleType               716208 non-null  object        \n",
      " 19  RegistrationYear          716208 non-null  datetime64[ns]\n",
      " 20  Make                      716208 non-null  object        \n",
      " 21  Model                     716208 non-null  object        \n",
      " 22  Cylinders                 716208 non-null  int64         \n",
      " 23  Cubiccapacity             716208 non-null  int64         \n",
      " 24  Kilowatts                 716208 non-null  int64         \n",
      " 25  Bodytype                  716208 non-null  object        \n",
      " 26  NumberOfDoors             716208 non-null  int64         \n",
      " 27  AlarmImmobiliser          716208 non-null  object        \n",
      " 28  TrackingDevice            716208 non-null  object        \n",
      " 29  CapitalOutstanding        716208 non-null  float64       \n",
      " 30  NewVehicle                716208 non-null  object        \n",
      " 31  SumInsured                716208 non-null  float64       \n",
      " 32  TermFrequency             716208 non-null  object        \n",
      " 33  CalculatedPremiumPerTerm  716208 non-null  float64       \n",
      " 34  ExcessSelected            716208 non-null  object        \n",
      " 35  CoverCategory             716208 non-null  object        \n",
      " 36  CoverType                 716208 non-null  object        \n",
      " 37  CoverGroup                716208 non-null  object        \n",
      " 38  Section                   716208 non-null  object        \n",
      " 39  Product                   716208 non-null  object        \n",
      " 40  StatutoryClass            716208 non-null  object        \n",
      " 41  StatutoryRiskType         716208 non-null  object        \n",
      " 42  TotalPremium              716208 non-null  float64       \n",
      " 43  TotalClaims               716208 non-null  float64       \n",
      "dtypes: bool(1), datetime64[ns](2), float64(5), int64(8), object(28)\n",
      "memory usage: 235.6+ MB\n",
      "\n",
      "DataFrame Shape:\n"
     ]
    },
    {
     "data": {
      "text/plain": [
       "(716208, 44)"
      ]
     },
     "metadata": {},
     "output_type": "display_data"
    },
    {
     "name": "stdout",
     "output_type": "stream",
     "text": [
      "\n",
      "DataFrame Description:\n"
     ]
    },
    {
     "data": {
      "application/vnd.microsoft.datawrangler.viewer.v0+json": {
       "columns": [
        {
         "name": "index",
         "rawType": "object",
         "type": "string"
        },
        {
         "name": "SumInsured",
         "rawType": "float64",
         "type": "float"
        },
        {
         "name": "CalculatedPremiumPerTerm",
         "rawType": "float64",
         "type": "float"
        },
        {
         "name": "TotalPremium",
         "rawType": "float64",
         "type": "float"
        },
        {
         "name": "TotalClaims",
         "rawType": "float64",
         "type": "float"
        }
       ],
       "ref": "7959a447-6ccd-4fa6-a890-99b888123aa2",
       "rows": [
        [
         "count",
         "716208.0",
         "716208.0",
         "716208.0",
         "716208.0"
        ],
        [
         "mean",
         "602395.47635068",
         "115.56790093338809",
         "64.90165869683211",
         "72.74849367952895"
        ],
        [
         "std",
         "1509302.0894719192",
         "221.861062552012",
         "160.61680263848322",
         "2527.264320781458"
        ],
        [
         "min",
         "0.01",
         "0.0",
         "-284.497807017544",
         "-12002.412280701796"
        ],
        [
         "25%",
         "5000.0",
         "3.1361499999999998",
         "0.0",
         "0.0"
        ],
        [
         "50%",
         "7500.0",
         "8.2764",
         "2.546052631578",
         "0.0"
        ],
        [
         "75%",
         "240000.0",
         "90.0",
         "21.929824561403",
         "0.0"
        ],
        [
         "max",
         "10000000.0",
         "3051.8211",
         "1561.08043859649",
         "393092.105263158"
        ]
       ],
       "shape": {
        "columns": 4,
        "rows": 8
       }
      },
      "text/html": [
       "<div>\n",
       "<style scoped>\n",
       "    .dataframe tbody tr th:only-of-type {\n",
       "        vertical-align: middle;\n",
       "    }\n",
       "\n",
       "    .dataframe tbody tr th {\n",
       "        vertical-align: top;\n",
       "    }\n",
       "\n",
       "    .dataframe thead th {\n",
       "        text-align: right;\n",
       "    }\n",
       "</style>\n",
       "<table border=\"1\" class=\"dataframe\">\n",
       "  <thead>\n",
       "    <tr style=\"text-align: right;\">\n",
       "      <th></th>\n",
       "      <th>SumInsured</th>\n",
       "      <th>CalculatedPremiumPerTerm</th>\n",
       "      <th>TotalPremium</th>\n",
       "      <th>TotalClaims</th>\n",
       "    </tr>\n",
       "  </thead>\n",
       "  <tbody>\n",
       "    <tr>\n",
       "      <th>count</th>\n",
       "      <td>7.162080e+05</td>\n",
       "      <td>716208.000000</td>\n",
       "      <td>716208.000000</td>\n",
       "      <td>716208.000000</td>\n",
       "    </tr>\n",
       "    <tr>\n",
       "      <th>mean</th>\n",
       "      <td>6.023955e+05</td>\n",
       "      <td>115.567901</td>\n",
       "      <td>64.901659</td>\n",
       "      <td>72.748494</td>\n",
       "    </tr>\n",
       "    <tr>\n",
       "      <th>std</th>\n",
       "      <td>1.509302e+06</td>\n",
       "      <td>221.861063</td>\n",
       "      <td>160.616803</td>\n",
       "      <td>2527.264321</td>\n",
       "    </tr>\n",
       "    <tr>\n",
       "      <th>min</th>\n",
       "      <td>1.000000e-02</td>\n",
       "      <td>0.000000</td>\n",
       "      <td>-284.497807</td>\n",
       "      <td>-12002.412281</td>\n",
       "    </tr>\n",
       "    <tr>\n",
       "      <th>25%</th>\n",
       "      <td>5.000000e+03</td>\n",
       "      <td>3.136150</td>\n",
       "      <td>0.000000</td>\n",
       "      <td>0.000000</td>\n",
       "    </tr>\n",
       "    <tr>\n",
       "      <th>50%</th>\n",
       "      <td>7.500000e+03</td>\n",
       "      <td>8.276400</td>\n",
       "      <td>2.546053</td>\n",
       "      <td>0.000000</td>\n",
       "    </tr>\n",
       "    <tr>\n",
       "      <th>75%</th>\n",
       "      <td>2.400000e+05</td>\n",
       "      <td>90.000000</td>\n",
       "      <td>21.929825</td>\n",
       "      <td>0.000000</td>\n",
       "    </tr>\n",
       "    <tr>\n",
       "      <th>max</th>\n",
       "      <td>1.000000e+07</td>\n",
       "      <td>3051.821100</td>\n",
       "      <td>1561.080439</td>\n",
       "      <td>393092.105263</td>\n",
       "    </tr>\n",
       "  </tbody>\n",
       "</table>\n",
       "</div>"
      ],
      "text/plain": [
       "         SumInsured  CalculatedPremiumPerTerm   TotalPremium    TotalClaims\n",
       "count  7.162080e+05             716208.000000  716208.000000  716208.000000\n",
       "mean   6.023955e+05                115.567901      64.901659      72.748494\n",
       "std    1.509302e+06                221.861063     160.616803    2527.264321\n",
       "min    1.000000e-02                  0.000000    -284.497807  -12002.412281\n",
       "25%    5.000000e+03                  3.136150       0.000000       0.000000\n",
       "50%    7.500000e+03                  8.276400       2.546053       0.000000\n",
       "75%    2.400000e+05                 90.000000      21.929825       0.000000\n",
       "max    1.000000e+07               3051.821100    1561.080439  393092.105263"
      ]
     },
     "metadata": {},
     "output_type": "display_data"
    }
   ],
   "source": [
    "#load df\n",
    "eda_processor = data_loading(df_path, output_folder)\n",
    "loaded_df = eda_processor.load_df()"
   ]
  }
 ],
 "metadata": {
  "kernelspec": {
   "display_name": ".insurvenv",
   "language": "python",
   "name": "python3"
  },
  "language_info": {
   "codemirror_mode": {
    "name": "ipython",
    "version": 3
   },
   "file_extension": ".py",
   "mimetype": "text/x-python",
   "name": "python",
   "nbconvert_exporter": "python",
   "pygments_lexer": "ipython3",
   "version": "3.13.3"
  }
 },
 "nbformat": 4,
 "nbformat_minor": 5
}
